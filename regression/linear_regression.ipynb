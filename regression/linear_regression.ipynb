{
  "cells": [
    {
      "cell_type": "code",
      "execution_count": null,
      "metadata": {
        "id": "MTFsxA6Tawo5"
      },
      "outputs": [],
      "source": [
        "from pandas import read_csv\n",
        "from numpy import linspace, meshgrid, column_stack\n",
        "\n",
        "from sklearn.preprocessing import StandardScaler\n",
        "from sklearn.model_selection import train_test_split\n",
        "from sklearn.metrics import r2_score\n",
        "\n",
        "import torch\n",
        "import torch.nn as nn\n",
        "import torch.optim as optim\n",
        "\n",
        "import matplotlib.pyplot as plt\n",
        "from ipywidgets import interactive, fixed"
      ]
    },
    {
      "cell_type": "markdown",
      "metadata": {
        "id": "IM3TzVXGLxpp"
      },
      "source": [
        "# Data import\n"
      ]
    },
    {
      "cell_type": "markdown",
      "source": [
        "The dataset is imported from a personal GitHub repository URL and loaded into a DataFrame using the read_csv function. The shape of the dataset is then retrieved, displaying the number of rows and columns."
      ],
      "metadata": {
        "id": "8hB28YBx2zfP"
      }
    },
    {
      "cell_type": "code",
      "execution_count": null,
      "metadata": {
        "colab": {
          "base_uri": "https://localhost:8080/"
        },
        "id": "vZwOcz4oay-4",
        "outputId": "40e2b96b-3a86-41ee-858d-cf4175b310e5"
      },
      "outputs": [
        {
          "output_type": "execute_result",
          "data": {
            "text/plain": [
              "(498, 3)"
            ]
          },
          "metadata": {},
          "execution_count": 18
        }
      ],
      "source": [
        "data = read_csv('https://raw.githubusercontent.com/ricdirenzo/AAI_master_workshops/refs/heads/main/regression/input/heart_data.csv')\n",
        "data.shape"
      ]
    },
    {
      "cell_type": "markdown",
      "metadata": {
        "id": "snhJ1wgBMF4W"
      },
      "source": [
        "# Data preprocessing\n",
        "\n",
        "The dataset is split into training and testing sets, with 80% of the data used for training and 20% for testing, ensuring reproducibility through a fixed random seed."
      ]
    },
    {
      "cell_type": "code",
      "execution_count": null,
      "metadata": {
        "id": "cFyiuFt9a3ig"
      },
      "outputs": [],
      "source": [
        "X, y = data.iloc[:, [0, 1]].values, data.iloc[:, [-1]].values\n",
        "\n",
        "# Split data into training (80%) and testing (20%) sets, with reproducibility\n",
        "X_train, X_test, y_train, y_test = train_test_split(X, y, test_size=0.2, random_state=42)\n"
      ]
    },
    {
      "cell_type": "markdown",
      "metadata": {
        "id": "jWBzMHJTKL91"
      },
      "source": [
        "The training and test data are normalized to have a mean of 0 and a standard deviation of 1:\n",
        "\n",
        "$$ Z = \\frac{X - \\mu}{σ} $$"
      ]
    },
    {
      "cell_type": "code",
      "execution_count": null,
      "metadata": {
        "id": "lw1O_N48Jp5s"
      },
      "outputs": [],
      "source": [
        "# Initialize the standard scaler for feature scaling\n",
        "scaler = StandardScaler()\n",
        "X_train = scaler.fit_transform(X_train)\n",
        "X_test = scaler.transform(X_test)"
      ]
    },
    {
      "cell_type": "markdown",
      "metadata": {
        "id": "6jqUFfmVcG8S"
      },
      "source": [
        "The features (`X_real`) are scaled using a `StandardScaler` to normalize the training data. An interactive 3D plot is then created, displaying the regression plane along with the training data, with adjustable view angles for improved visualization. The plot updates dynamically based on the selected azimuthal and elevation angles."
      ]
    },
    {
      "cell_type": "markdown",
      "metadata": {
        "id": "9YI02AZwjxLN"
      },
      "source": [
        "# Feed-Forward Neural Network Implementation (FFNN)\n",
        "A Feed-Forward Neural Network is a structure with input, hidden, and output layers where data flows in one direction, and neurons are connected with weighted links and activation functions.\n",
        "\n",
        "\n",
        "\n"
      ]
    },
    {
      "cell_type": "markdown",
      "metadata": {
        "id": "E7Z6uDROPy0m"
      },
      "source": [
        "## Data preparation for neural network training\n",
        "\n",
        "Data is converted into PyTorch tensors with a float32 data type for both training and testing sets."
      ]
    },
    {
      "cell_type": "code",
      "execution_count": null,
      "metadata": {
        "id": "MOsMii74bGjX"
      },
      "outputs": [],
      "source": [
        "# Convert the data to PyTorch tensors\n",
        "X_train = torch.tensor(X_train, dtype=torch.float32)\n",
        "y_train = torch.tensor(y_train, dtype=torch.float32)\n",
        "X_test = torch.tensor(X_test, dtype=torch.float32)\n",
        "y_test = torch.tensor(y_test, dtype=torch.float32)"
      ]
    },
    {
      "cell_type": "markdown",
      "metadata": {
        "id": "PEB9hgKtQgHV"
      },
      "source": [
        "## Defining a Simple FFNN\n",
        "\n",
        "The `SimpleFeedForward` class defines a basic feed-forward neural network in PyTorch. It includes the following components:\n",
        "\n",
        "1. **Input layer** (`fc1`): a fully connected linear layer that maps input data to a hidden layer with a specified number of features.\n",
        "2. **Batch normalization** (`batch_norm`): normalizes the input of each mini-batch to have a mean of 0 and a standard deviation of 1. This helps improve training speed and stability by reducing internal covariate shift.\n",
        "\n",
        "  $$y_i = γ \\cdot \\frac{x_i-μ_B}{\\sqrt{σ_B^2 + ϵ}} + β $$\n",
        "  where:\n",
        "  - $x_i$ is the input value for the $i$-th sample in the batch\n",
        "  - $μ_B$ is the mean of the batch\n",
        "  - $σ_B^2$ is the variance of the batch\n",
        "  - $ϵ$ is a small constant added for numerical stability\n",
        "  - $γ$ is the learned scale parameter\n",
        "  - $β$ is the learned shift parameter\n",
        "\n",
        "  `nn.BatchNorm1d(hidden_size)` applies **batch normalization** to a 1D input, commonly used in fully connected (linear) networks. In PyTorch, the `BatchNorm1d` layer automatically handles the computation of the mean, variance, and scaling/shifting during training and evaluation.\n",
        "\n",
        "3. **Activation function** (`act`): a parametric ReLU (RReLU) activation function is applied after batch normalization to introduce non-linearity.\n",
        "4. **Output layer** (`fc2`): a final fully connected linear layer that produces the output.\n",
        "\n",
        "In the `forward` method, the input is passed through these layers in sequence: first `fc1`, then batch normalization, followed by the activation function, and finally through `fc2` to generate the output."
      ]
    },
    {
      "cell_type": "code",
      "execution_count": null,
      "metadata": {
        "id": "2nmW7lr4bQOX"
      },
      "outputs": [],
      "source": [
        "class SimpleFeedForward(nn.Module):\n",
        "  def __init__(self, input_size, hidden_size, output_size):\n",
        "    super(SimpleFeedForward, self).__init__()\n",
        "    # Input layer\n",
        "    self.fc1 = nn.Linear(input_size, hidden_size)\n",
        "    # Batch normalization layer\n",
        "    self.batch_norm = nn.BatchNorm1d(hidden_size)\n",
        "    # RReLU activation function for the hidden layer\n",
        "    self.act = nn.RReLU()\n",
        "    # Output layer, no activation\n",
        "    self.fc2 = nn.Linear(hidden_size, output_size)\n",
        "\n",
        "  def forward(self, x):\n",
        "    # Pass input through the first layer\n",
        "    res = self.fc1(x)\n",
        "    # Apply batch normalization\n",
        "    res = self.batch_norm(res)\n",
        "    # Apply the ReLU activation function\n",
        "    res = self.act(res)\n",
        "    # Pass through the output layer\n",
        "    res = self.fc2(res)\n",
        "    return res"
      ]
    },
    {
      "cell_type": "markdown",
      "metadata": {
        "id": "vTQhBr8fSHFA"
      },
      "source": [
        "## Neural network architecture and model initialization  \n",
        "\n",
        "A neural network architecture is initialized using the `SimpleFeedForward` class defined above, with 2 input features (x1, x2), a hidden layer consisting of 4 neurons, and a single output (y)."
      ]
    },
    {
      "cell_type": "code",
      "execution_count": null,
      "metadata": {
        "id": "YKw0hr_LbT4R"
      },
      "outputs": [],
      "source": [
        "# Two input features: x1 and x2\n",
        "input_size = 2\n",
        "# Hidden layer with 4 neurons\n",
        "hidden_size = 4\n",
        "# Single output: y\n",
        "output_size = 1\n",
        "\n",
        "model = SimpleFeedForward(input_size, hidden_size, output_size)"
      ]
    },
    {
      "cell_type": "markdown",
      "metadata": {
        "id": "9HYZ3E67ShvO"
      },
      "source": [
        "## Loss, optimizer, and scheduler setup"
      ]
    },
    {
      "cell_type": "markdown",
      "metadata": {
        "id": "3ftF-poqwBpT"
      },
      "source": [
        "The model uses the `MSELoss` (Mean Squared Error) loss function to measure the difference between predicted and actual values. Stochastic Gradient Descent (`SGD`) with a learning rate of 0.01 is used to optimize the model's parameters. To improve training, a learning rate scheduler reduces the learning rate by half (`gamma=0.5`) every 20 epochs (`step_size=20`), allowing for finer updates as the training progresses, improving convergence."
      ]
    },
    {
      "cell_type": "code",
      "execution_count": null,
      "metadata": {
        "id": "Xmb1X04-cIhS"
      },
      "outputs": [],
      "source": [
        "# Mean Squared Error for regression\n",
        "criterion = nn.MSELoss()\n",
        "optimizer = optim.SGD(model.parameters(), lr=0.01)\n",
        "\n",
        "# Learning rate scheduler\n",
        "scheduler = optim.lr_scheduler.StepLR(optimizer, step_size=20, gamma=0.5)  # Reduce LR by half every 20 epochs"
      ]
    },
    {
      "cell_type": "markdown",
      "metadata": {
        "id": "EWC_CwBbTS4U"
      },
      "source": [
        "## Model training and loss tracking"
      ]
    },
    {
      "cell_type": "markdown",
      "metadata": {
        "id": "E4o5pd1_0KC2"
      },
      "source": [
        "A training loop is implemented for a PyTorch model over 200 epochs. Each epoch begins with setting the model to training mode, followed by a forward pass to generate predictions. The loss is computed based on the predictions and true values, after which the gradients are cleared, and the optimizer updates the model's weights through backpropagation. The learning rate scheduler is stepped at each epoch to adjust the learning rate. Every 10 epochs, the loss value is tracked and printed, along with the current learning rate, enabling progress monitoring and optimization evaluation."
      ]
    },
    {
      "cell_type": "code",
      "execution_count": null,
      "metadata": {
        "colab": {
          "base_uri": "https://localhost:8080/"
        },
        "id": "1a1aX0UAl1J-",
        "outputId": "41f53c85-be6e-4571-b581-e37702c17183"
      },
      "outputs": [
        {
          "output_type": "stream",
          "name": "stdout",
          "text": [
            "Epoch [ 10/200],  Loss:  68.4282,  Learning Rate: 0.010000\n",
            "Epoch [ 20/200],  Loss:   2.9503,  Learning Rate: 0.005000\n",
            "Epoch [ 30/200],  Loss:   1.1849,  Learning Rate: 0.005000\n",
            "Epoch [ 40/200],  Loss:   0.8096,  Learning Rate: 0.002500\n",
            "Epoch [ 50/200],  Loss:   0.7305,  Learning Rate: 0.002500\n",
            "Epoch [ 60/200],  Loss:   0.6806,  Learning Rate: 0.001250\n",
            "Epoch [ 70/200],  Loss:   0.6769,  Learning Rate: 0.001250\n",
            "Epoch [ 80/200],  Loss:   0.6593,  Learning Rate: 0.000625\n",
            "Epoch [ 90/200],  Loss:   0.6569,  Learning Rate: 0.000625\n",
            "Epoch [100/200],  Loss:   0.6439,  Learning Rate: 0.000313\n",
            "Epoch [110/200],  Loss:   0.6581,  Learning Rate: 0.000313\n",
            "Epoch [120/200],  Loss:   0.6506,  Learning Rate: 0.000156\n",
            "Epoch [130/200],  Loss:   0.6469,  Learning Rate: 0.000156\n",
            "Epoch [140/200],  Loss:   0.6372,  Learning Rate: 0.000078\n",
            "Epoch [150/200],  Loss:   0.6465,  Learning Rate: 0.000078\n",
            "Epoch [160/200],  Loss:   0.6401,  Learning Rate: 0.000039\n",
            "Epoch [170/200],  Loss:   0.6470,  Learning Rate: 0.000039\n",
            "Epoch [180/200],  Loss:   0.6328,  Learning Rate: 0.000020\n",
            "Epoch [190/200],  Loss:   0.6514,  Learning Rate: 0.000020\n",
            "Epoch [200/200],  Loss:   0.6434,  Learning Rate: 0.000010\n"
          ]
        }
      ],
      "source": [
        "epochs = 200\n",
        "\n",
        "loss_values = []\n",
        "\n",
        "# Training loop\n",
        "for epoch in range(epochs):\n",
        "    model.train()  # Set the model to training mode\n",
        "\n",
        "    # Forward pass\n",
        "    y_pred = model(X_train)\n",
        "\n",
        "    # Compute the loss\n",
        "    loss = criterion(y_pred, y_train)\n",
        "\n",
        "    # Backward pass and optimization\n",
        "    optimizer.zero_grad()  # Clear the gradients\n",
        "    loss.backward()  # Compute the gradients\n",
        "    optimizer.step()  # Update the model weights\n",
        "\n",
        "    # Step the learning rate scheduler\n",
        "    scheduler.step()\n",
        "\n",
        "    loss_values.append(loss.item())\n",
        "\n",
        "    if (epoch + 1) % 10 == 0:\n",
        "        print(f'Epoch [{epoch + 1:>{len(str(epochs))}}/{epochs}], ',\n",
        "              f'Loss: {loss.item():>{8}.4f}, ',\n",
        "              f'Learning Rate: {optimizer.param_groups[0][\"lr\"]:.6f}')"
      ]
    },
    {
      "cell_type": "markdown",
      "metadata": {
        "id": "ai8SBZMT0-Bl"
      },
      "source": [
        "A plot is generated with loss_values displayed as a red line. The x-axis is labeled \"Epochs\" and the y-axis is labeled \"Loss\"."
      ]
    },
    {
      "cell_type": "code",
      "execution_count": null,
      "metadata": {
        "colab": {
          "base_uri": "https://localhost:8080/",
          "height": 472
        },
        "id": "-twWeH47l3kI",
        "outputId": "00b8072a-b0ff-47b1-f651-809b94ea3ddc"
      },
      "outputs": [
        {
          "output_type": "display_data",
          "data": {
            "text/plain": [
              "<Figure size 640x480 with 1 Axes>"
            ],
            "image/png": "[encoded data removed]"
          },
          "metadata": {}
        }
      ],
      "source": [
        "plt.plot(loss_values, 'r')\n",
        "plt.xlabel('Epochs')\n",
        "plt.ylabel('Loss')\n",
        "plt.title('Loss curve')\n",
        "plt.show()"
      ]
    },
    {
      "cell_type": "markdown",
      "metadata": {
        "id": "CPMZQnZGTnn2"
      },
      "source": [
        "## Model evaluation"
      ]
    },
    {
      "cell_type": "markdown",
      "metadata": {
        "id": "PC8mPBfR4lci"
      },
      "source": [
        "Predictions are generated on the test data by setting the model to evaluation mode and passing the test input through the model. The R-squared value is then computed using scikit-learn's `r2_score` function, comparing the true target values (`y_test`) with the predicted values (`y_pred`). The predictions are first detached, and the tensors are converted to numpy arrays before calculating the R-squared metric."
      ]
    },
    {
      "cell_type": "code",
      "execution_count": null,
      "metadata": {
        "colab": {
          "base_uri": "https://localhost:8080/"
        },
        "id": "VhoKzjlLcUMD",
        "outputId": "95d63814-a0ab-4ce5-ea8f-d57c5cedd2ef"
      },
      "outputs": [
        {
          "output_type": "stream",
          "name": "stdout",
          "text": [
            "R-squared: 0.9612\n"
          ]
        }
      ],
      "source": [
        "# Calculate predictions on the test data\n",
        "model.eval()  # Set the model to evaluation mode\n",
        "y_pred = model(X_test)\n",
        "\n",
        "# Calculate R-squared using scikit-learn\n",
        "r2 = r2_score(y_test.numpy(), y_pred.detach().numpy())\n",
        "\n",
        "print(f\"R-squared: {r2:.4f}\")"
      ]
    },
    {
      "cell_type": "markdown",
      "metadata": {
        "id": "VdtneSr6j3bz"
      },
      "source": [
        "## Visualize regression plane fit"
      ]
    },
    {
      "cell_type": "markdown",
      "metadata": {
        "id": "hEr625_j7IbQ"
      },
      "source": [
        "A 3D plot is generated to visually represent a regression plane along with the training data points. First, a grid is created based on the range of the input features, X, by defining a set of x and y values and using them to form a meshgrid. These grid points are then rescaled back to the same scale as the training data using a given scaler. This rescaled data is passed through the model to obtain the predicted output, which forms the z-values for the regression plane.\n",
        "\n",
        "A figure is then created using `matplotlib`, and a 3D subplot is initialized. The training data points are plotted as a scatter plot in black, while the regression plane is plotted as a blue surface, with some transparency applied to both to enhance the visual clarity.\n",
        "\n",
        "Finally, the view angle is adjusted by setting the azimuthal and elevation angles of the plot, allowing for an interactive exploration of the plane's fit to the data. The resulting plot provides a clear visual representation of how well the model fits the 3D data."
      ]
    },
    {
      "cell_type": "code",
      "execution_count": null,
      "metadata": {
        "id": "GqyXjSOcco0q"
      },
      "outputs": [],
      "source": [
        "def plot_regression_plane_interactive(model, X, y, scaler, azim=270, elev=0):\n",
        "    # Create the grid for the regression plane\n",
        "    x_range = linspace(X[:, 0].min(), X[:, 0].max(), 50)\n",
        "    y_range = linspace(X[:, 1].min(), X[:, 1].max(), 50)\n",
        "    x_grid, y_grid = meshgrid(x_range, y_range)\n",
        "\n",
        "    # Rescale the grid (invert normalization)\n",
        "    grid_data = column_stack((x_grid.ravel(), y_grid.ravel()))\n",
        "    grid_data_scaled = scaler.transform(grid_data)  # Normalize the grid\n",
        "    grid_tensor = torch.tensor(grid_data_scaled, dtype=torch.float32)\n",
        "\n",
        "    # Model predictions on the grid\n",
        "    with torch.no_grad():\n",
        "        z_grid = model(grid_tensor).numpy().reshape(x_grid.shape)\n",
        "\n",
        "    # Create the figure\n",
        "    fig = plt.figure(figsize=(10, 8))\n",
        "    ax = fig.add_subplot(111, projection='3d')\n",
        "\n",
        "    # Real data (scatter plot)\n",
        "    ax.scatter(X[:, 0], X[:, 1], y, color='k', marker='o', alpha=0.75, label=\"Training set\")\n",
        "\n",
        "    # Regression plane surface\n",
        "    ax.plot_surface(x_grid, y_grid, z_grid, color='b', alpha=0.75, label=\"Regression plane\")\n",
        "\n",
        "    # Set the view angle\n",
        "    ax.view_init(azim=azim, elev=elev)\n",
        "\n",
        "    # Labels and title\n",
        "    ax.set_xlabel('x1')\n",
        "    ax.set_ylabel('x2')\n",
        "    ax.set_zlabel('y')\n",
        "    ax.set_title('3D Regression Plane')\n",
        "\n",
        "    plt.legend()\n",
        "    plt.show()"
      ]
    },
    {
      "cell_type": "markdown",
      "metadata": {
        "id": "q8phRWe4Afu0"
      },
      "source": [
        "The features (`X_real`) are scaled using a `StandardScaler` to normalize the training data. An interactive 3D plot is then created, displaying the regression plane along with the training data, with adjustable view angles for improved visualization. The plot updates dynamically based on the selected azimuthal and elevation angles."
      ]
    },
    {
      "cell_type": "code",
      "execution_count": null,
      "metadata": {
        "colab": {
          "base_uri": "https://localhost:8080/",
          "height": 739,
          "referenced_widgets": [
            "bcc3a53f002745bc893dfae900668f75",
            "3de6d513569c4f819fa6491d18b0555c",
            "527bd6a7defc4000aa892d33f4f3120d",
            "b8d07da912c143bbaf215ad690776da5",
            "c78616b3b8d84f93ab66d7a454dcaa1c",
            "362c8e6b2b974259b9772949fa4d011a",
            "dbaa3953ca0246ccaa5a1f1fd4df7dbc",
            "f9665629016b44a49bb4684334f39234",
            "76d02c19d7ca4d759806496276e087e9",
            "4f9b90557bc04e1d96341f784f9a32ae"
          ]
        },
        "id": "QdBdrTEQcwxC",
        "outputId": "118c3a93-2cad-42cb-8ab8-90415c06e650"
      },
      "outputs": [
        {
          "output_type": "display_data",
          "data": {
            "text/plain": [
              "interactive(children=(IntSlider(value=270, description='azim', max=360), IntSlider(value=0, description='elev'…"
            ],
            "application/vnd.jupyter.widget-view+json": {
              "version_major": 2,
              "version_minor": 0,
              "model_id": "bcc3a53f002745bc893dfae900668f75"
            }
          },
          "metadata": {}
        }
      ],
      "source": [
        "X_real = data.iloc[:, [0, 1]].values\n",
        "y_real = data.iloc[:, -1].values\n",
        "\n",
        "X_train, X_test, y_train, y_test = train_test_split(X_real, y_real, test_size=0.2, random_state=42)\n",
        "\n",
        "# Example scaler (replace with your actual scaler if necessary)\n",
        "scaler = StandardScaler()\n",
        "X_scaled = scaler.fit_transform(X_train)\n",
        "\n",
        "# Assuming 'model' is your trained model\n",
        "interactive_plot = interactive(plot_regression_plane_interactive,\n",
        "                               model=fixed(model),\n",
        "                               X=fixed(X_train),\n",
        "                               y=fixed(y_train),\n",
        "                               scaler=fixed(scaler),\n",
        "                               azim=(0, 360, 1),\n",
        "                               elev=(-90, 90, 1))\n",
        "\n",
        "# Display the interactive plot\n",
        "interactive_plot"
      ]
    },
    {
      "cell_type": "markdown",
      "metadata": {
        "id": "mXd87xKQnjoa"
      },
      "source": [
        "# Conclusions\n",
        "\n",
        "In summary, the model suggests that biking (x1) could lower the risk of heart disease, with higher levels of physical activity associated with a reduced risk. On the other hand, smoking (x2) could significantly increase the likelihood of developing heart disease. Both factors are statistically significant and highlight the importance of regular physical activity and smoking cessation for the prevention of cardiovascular diseases."
      ]
    }
  ],
  "metadata": {
    "colab": {
      "provenance": []
    },
    "kernelspec": {
      "display_name": "Python 3 (ipykernel)",
      "language": "python",
      "name": "python3"
    },
    "language_info": {
      "codemirror_mode": {
        "name": "ipython",
        "version": 3
      },
      "file_extension": ".py",
      "mimetype": "text/x-python",
      "name": "python",
      "nbconvert_exporter": "python",
      "pygments_lexer": "ipython3",
      "version": "3.12.3"
    },
    "widgets": {
      "application/vnd.jupyter.widget-state+json": {
        "bcc3a53f002745bc893dfae900668f75": {
          "model_module": "@jupyter-widgets/controls",
          "model_name": "VBoxModel",
          "model_module_version": "1.5.0",
          "state": {
            "_dom_classes": [
              "widget-interact"
            ],
            "_model_module": "@jupyter-widgets/controls",
            "_model_module_version": "1.5.0",
            "_model_name": "VBoxModel",
            "_view_count": null,
            "_view_module": "@jupyter-widgets/controls",
            "_view_module_version": "1.5.0",
            "_view_name": "VBoxView",
            "box_style": "",
            "children": [
              "IPY_MODEL_3de6d513569c4f819fa6491d18b0555c",
              "IPY_MODEL_527bd6a7defc4000aa892d33f4f3120d",
              "IPY_MODEL_b8d07da912c143bbaf215ad690776da5"
            ],
            "layout": "IPY_MODEL_c78616b3b8d84f93ab66d7a454dcaa1c"
          }
        },
        "3de6d513569c4f819fa6491d18b0555c": {
          "model_module": "@jupyter-widgets/controls",
          "model_name": "IntSliderModel",
          "model_module_version": "1.5.0",
          "state": {
            "_dom_classes": [],
            "_model_module": "@jupyter-widgets/controls",
            "_model_module_version": "1.5.0",
            "_model_name": "IntSliderModel",
            "_view_count": null,
            "_view_module": "@jupyter-widgets/controls",
            "_view_module_version": "1.5.0",
            "_view_name": "IntSliderView",
            "continuous_update": true,
            "description": "azim",
            "description_tooltip": null,
            "disabled": false,
            "layout": "IPY_MODEL_362c8e6b2b974259b9772949fa4d011a",
            "max": 360,
            "min": 0,
            "orientation": "horizontal",
            "readout": true,
            "readout_format": "d",
            "step": 1,
            "style": "IPY_MODEL_dbaa3953ca0246ccaa5a1f1fd4df7dbc",
            "value": 270
          }
        },
        "527bd6a7defc4000aa892d33f4f3120d": {
          "model_module": "@jupyter-widgets/controls",
          "model_name": "IntSliderModel",
          "model_module_version": "1.5.0",
          "state": {
            "_dom_classes": [],
            "_model_module": "@jupyter-widgets/controls",
            "_model_module_version": "1.5.0",
            "_model_name": "IntSliderModel",
            "_view_count": null,
            "_view_module": "@jupyter-widgets/controls",
            "_view_module_version": "1.5.0",
            "_view_name": "IntSliderView",
            "continuous_update": true,
            "description": "elev",
            "description_tooltip": null,
            "disabled": false,
            "layout": "IPY_MODEL_f9665629016b44a49bb4684334f39234",
            "max": 90,
            "min": -90,
            "orientation": "horizontal",
            "readout": true,
            "readout_format": "d",
            "step": 1,
            "style": "IPY_MODEL_76d02c19d7ca4d759806496276e087e9",
            "value": 0
          }
        },
        "b8d07da912c143bbaf215ad690776da5": {
          "model_module": "@jupyter-widgets/output",
          "model_name": "OutputModel",
          "model_module_version": "1.0.0",
          "state": {
            "_dom_classes": [],
            "_model_module": "@jupyter-widgets/output",
            "_model_module_version": "1.0.0",
            "_model_name": "OutputModel",
            "_view_count": null,
            "_view_module": "@jupyter-widgets/output",
            "_view_module_version": "1.0.0",
            "_view_name": "OutputView",
            "layout": "IPY_MODEL_4f9b90557bc04e1d96341f784f9a32ae",
            "msg_id": "",
            "outputs": [
              {
                "output_type": "display_data",
                "data": {
                  "text/plain": "<Figure size 1000x800 with 1 Axes>",
                  "image/png": "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\n"
                },
                "metadata": {}
              }
            ]
          }
        },
        "c78616b3b8d84f93ab66d7a454dcaa1c": {
          "model_module": "@jupyter-widgets/base",
          "model_name": "LayoutModel",
          "model_module_version": "1.2.0",
          "state": {
            "_model_module": "@jupyter-widgets/base",
            "_model_module_version": "1.2.0",
            "_model_name": "LayoutModel",
            "_view_count": null,
            "_view_module": "@jupyter-widgets/base",
            "_view_module_version": "1.2.0",
            "_view_name": "LayoutView",
            "align_content": null,
            "align_items": null,
            "align_self": null,
            "border": null,
            "bottom": null,
            "display": null,
            "flex": null,
            "flex_flow": null,
            "grid_area": null,
            "grid_auto_columns": null,
            "grid_auto_flow": null,
            "grid_auto_rows": null,
            "grid_column": null,
            "grid_gap": null,
            "grid_row": null,
            "grid_template_areas": null,
            "grid_template_columns": null,
            "grid_template_rows": null,
            "height": null,
            "justify_content": null,
            "justify_items": null,
            "left": null,
            "margin": null,
            "max_height": null,
            "max_width": null,
            "min_height": null,
            "min_width": null,
            "object_fit": null,
            "object_position": null,
            "order": null,
            "overflow": null,
            "overflow_x": null,
            "overflow_y": null,
            "padding": null,
            "right": null,
            "top": null,
            "visibility": null,
            "width": null
          }
        },
        "362c8e6b2b974259b9772949fa4d011a": {
          "model_module": "@jupyter-widgets/base",
          "model_name": "LayoutModel",
          "model_module_version": "1.2.0",
          "state": {
            "_model_module": "@jupyter-widgets/base",
            "_model_module_version": "1.2.0",
            "_model_name": "LayoutModel",
            "_view_count": null,
            "_view_module": "@jupyter-widgets/base",
            "_view_module_version": "1.2.0",
            "_view_name": "LayoutView",
            "align_content": null,
            "align_items": null,
            "align_self": null,
            "border": null,
            "bottom": null,
            "display": null,
            "flex": null,
            "flex_flow": null,
            "grid_area": null,
            "grid_auto_columns": null,
            "grid_auto_flow": null,
            "grid_auto_rows": null,
            "grid_column": null,
            "grid_gap": null,
            "grid_row": null,
            "grid_template_areas": null,
            "grid_template_columns": null,
            "grid_template_rows": null,
            "height": null,
            "justify_content": null,
            "justify_items": null,
            "left": null,
            "margin": null,
            "max_height": null,
            "max_width": null,
            "min_height": null,
            "min_width": null,
            "object_fit": null,
            "object_position": null,
            "order": null,
            "overflow": null,
            "overflow_x": null,
            "overflow_y": null,
            "padding": null,
            "right": null,
            "top": null,
            "visibility": null,
            "width": null
          }
        },
        "dbaa3953ca0246ccaa5a1f1fd4df7dbc": {
          "model_module": "@jupyter-widgets/controls",
          "model_name": "SliderStyleModel",
          "model_module_version": "1.5.0",
          "state": {
            "_model_module": "@jupyter-widgets/controls",
            "_model_module_version": "1.5.0",
            "_model_name": "SliderStyleModel",
            "_view_count": null,
            "_view_module": "@jupyter-widgets/base",
            "_view_module_version": "1.2.0",
            "_view_name": "StyleView",
            "description_width": "",
            "handle_color": null
          }
        },
        "f9665629016b44a49bb4684334f39234": {
          "model_module": "@jupyter-widgets/base",
          "model_name": "LayoutModel",
          "model_module_version": "1.2.0",
          "state": {
            "_model_module": "@jupyter-widgets/base",
            "_model_module_version": "1.2.0",
            "_model_name": "LayoutModel",
            "_view_count": null,
            "_view_module": "@jupyter-widgets/base",
            "_view_module_version": "1.2.0",
            "_view_name": "LayoutView",
            "align_content": null,
            "align_items": null,
            "align_self": null,
            "border": null,
            "bottom": null,
            "display": null,
            "flex": null,
            "flex_flow": null,
            "grid_area": null,
            "grid_auto_columns": null,
            "grid_auto_flow": null,
            "grid_auto_rows": null,
            "grid_column": null,
            "grid_gap": null,
            "grid_row": null,
            "grid_template_areas": null,
            "grid_template_columns": null,
            "grid_template_rows": null,
            "height": null,
            "justify_content": null,
            "justify_items": null,
            "left": null,
            "margin": null,
            "max_height": null,
            "max_width": null,
            "min_height": null,
            "min_width": null,
            "object_fit": null,
            "object_position": null,
            "order": null,
            "overflow": null,
            "overflow_x": null,
            "overflow_y": null,
            "padding": null,
            "right": null,
            "top": null,
            "visibility": null,
            "width": null
          }
        },
        "76d02c19d7ca4d759806496276e087e9": {
          "model_module": "@jupyter-widgets/controls",
          "model_name": "SliderStyleModel",
          "model_module_version": "1.5.0",
          "state": {
            "_model_module": "@jupyter-widgets/controls",
            "_model_module_version": "1.5.0",
            "_model_name": "SliderStyleModel",
            "_view_count": null,
            "_view_module": "@jupyter-widgets/base",
            "_view_module_version": "1.2.0",
            "_view_name": "StyleView",
            "description_width": "",
            "handle_color": null
          }
        },
        "4f9b90557bc04e1d96341f784f9a32ae": {
          "model_module": "@jupyter-widgets/base",
          "model_name": "LayoutModel",
          "model_module_version": "1.2.0",
          "state": {
            "_model_module": "@jupyter-widgets/base",
            "_model_module_version": "1.2.0",
            "_model_name": "LayoutModel",
            "_view_count": null,
            "_view_module": "@jupyter-widgets/base",
            "_view_module_version": "1.2.0",
            "_view_name": "LayoutView",
            "align_content": null,
            "align_items": null,
            "align_self": null,
            "border": null,
            "bottom": null,
            "display": null,
            "flex": null,
            "flex_flow": null,
            "grid_area": null,
            "grid_auto_columns": null,
            "grid_auto_flow": null,
            "grid_auto_rows": null,
            "grid_column": null,
            "grid_gap": null,
            "grid_row": null,
            "grid_template_areas": null,
            "grid_template_columns": null,
            "grid_template_rows": null,
            "height": null,
            "justify_content": null,
            "justify_items": null,
            "left": null,
            "margin": null,
            "max_height": null,
            "max_width": null,
            "min_height": null,
            "min_width": null,
            "object_fit": null,
            "object_position": null,
            "order": null,
            "overflow": null,
            "overflow_x": null,
            "overflow_y": null,
            "padding": null,
            "right": null,
            "top": null,
            "visibility": null,
            "width": null
          }
        }
      }
    }
  },
  "nbformat": 4,
  "nbformat_minor": 0
}