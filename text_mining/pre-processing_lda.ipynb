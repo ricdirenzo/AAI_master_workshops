{
 "cells": [
  {
   "cell_type": "markdown",
   "id": "f369cadc-124c-4254-a05b-c380953b1689",
   "metadata": {},
   "source": [
    "# Text mining "
   ]
  },
  {
   "cell_type": "markdown",
   "id": "51eef837-8914-4b61-99c9-0aafa7823746",
   "metadata": {},
   "source": [
    "We use the nltk (Natural Language Toolkit) library and other machine learning tools in Python."
   ]
  },
  {
   "cell_type": "code",
   "execution_count": 1,
   "id": "32b7332a-f9ab-4033-bfef-7b33e9385b07",
   "metadata": {},
   "outputs": [],
   "source": [
    "import re, string\n",
    "\n",
    "from pandas import read_csv, DataFrame, set_option\n",
    "from pandas.api.types import is_object_dtype\n",
    "\n",
    "from datetime import datetime\n",
    "from numpy import array, c_\n",
    "\n",
    "import nltk\n",
    "from nltk.tokenize import word_tokenize\n",
    "from nltk.corpus import stopwords\n",
    "from nltk.stem import WordNetLemmatizer, PorterStemmer\n",
    "from nltk.probability import FreqDist\n",
    "\n",
    "from sklearn.feature_extraction.text import TfidfVectorizer, CountVectorizer\n",
    "\n",
    "from sklearn.decomposition import LatentDirichletAllocation\n",
    "\n",
    "import matplotlib.pyplot as plt\n",
    "import seaborn as sns\n",
    "\n",
    "from warnings import filterwarnings"
   ]
  },
  {
   "cell_type": "code",
   "execution_count": 3,
   "id": "a91666a0-7122-4643-8a97-5982327e3d6d",
   "metadata": {},
   "outputs": [],
   "source": [
    "font = {\n",
    "    'family': 'arial',\n",
    "    'size': 12,\n",
    "    'weight': 'bold',\n",
    "    'style': 'italic'\n",
    "}\n",
    "\n",
    "plt.rc('font', **font)"
   ]
  },
  {
   "cell_type": "code",
   "execution_count": 5,
   "id": "59f5e293-863c-418f-880b-f02f90ec7357",
   "metadata": {},
   "outputs": [],
   "source": [
    "filterwarnings('ignore')"
   ]
  },
  {
   "cell_type": "markdown",
   "id": "4056734a-bc75-4e96-83e6-515f454633c0",
   "metadata": {},
   "source": [
    "## About dataset "
   ]
  },
  {
   "cell_type": "markdown",
   "id": "2abc7453-05d6-4d58-b301-9638e0ef3797",
   "metadata": {},
   "source": [
    "Data of __news headlines__ published from 2015-01-01 to 2021-12-31. \n",
    "\n",
    "Agency Site: (http://www.abc.net.au)"
   ]
  },
  {
   "cell_type": "code",
   "execution_count": 7,
   "id": "e8326ccb-b337-43ff-bc91-7ac334491577",
   "metadata": {},
   "outputs": [
    {
     "name": "stdout",
     "output_type": "stream",
     "text": [
      "<class 'pandas.core.frame.DataFrame'>\n",
      "RangeIndex: 318703 entries, 0 to 318702\n",
      "Data columns (total 2 columns):\n",
      " #   Column         Non-Null Count   Dtype \n",
      "---  ------         --------------   ----- \n",
      " 0   publish_date   318703 non-null  object\n",
      " 1   headline_text  318703 non-null  object\n",
      "dtypes: object(2)\n",
      "memory usage: 4.9+ MB\n"
     ]
    }
   ],
   "source": [
    "# load the csv file using pandas\n",
    "data = read_csv('input/abcnews-date-text_2015-01-01_2021-12-31.csv', dtype='object')\n",
    "data.info()"
   ]
  },
  {
   "cell_type": "code",
   "execution_count": 9,
   "id": "2c8d40d1-2425-4120-a8a8-7371dfac9641",
   "metadata": {},
   "outputs": [
    {
     "name": "stdout",
     "output_type": "stream",
     "text": [
      "Events in the world from 2015-01-01 to 2021-12-31\n"
     ]
    }
   ],
   "source": [
    "print(\n",
    "    f'Events in the world', \n",
    "    f'from {datetime.strptime(data.publish_date.values[0], '%Y%m%d').strftime('%Y-%m-%d')}', \n",
    "    f'to {datetime.strptime(data.publish_date.values[-1], '%Y%m%d').strftime('%Y-%m-%d')}'\n",
    ")"
   ]
  },
  {
   "cell_type": "markdown",
   "id": "a8defe4d-165a-4bbb-83bb-7dc1f3e17103",
   "metadata": {},
   "source": [
    "We extract events that occurred during the past four years"
   ]
  },
  {
   "cell_type": "code",
   "execution_count": 11,
   "id": "3c34ba1d-6f7c-4d2d-9a33-ba1e26fb8543",
   "metadata": {},
   "outputs": [
    {
     "name": "stdout",
     "output_type": "stream",
     "text": [
      "<class 'pandas.core.frame.DataFrame'>\n",
      "Index: 132328 entries, 186375 to 318702\n",
      "Data columns (total 2 columns):\n",
      " #   Column         Non-Null Count   Dtype \n",
      "---  ------         --------------   ----- \n",
      " 0   publish_date   132328 non-null  object\n",
      " 1   headline_text  132328 non-null  object\n",
      "dtypes: object(2)\n",
      "memory usage: 3.0+ MB\n"
     ]
    }
   ],
   "source": [
    "# data = data[\n",
    "#     data['publish_date'].str.startswith('2021') | \n",
    "#     data['publish_date'].str.startswith('2020') | \n",
    "#     data['publish_date'].str.startswith('2019') |\n",
    "#     data['publish_date'].str.startswith('2018') \n",
    "# ]\n",
    "\n",
    "year = 2018\n",
    "years= [f'{year}']\n",
    "while year < 2021:\n",
    "    year += 1\n",
    "    years.append(f'{year}')\n",
    "\n",
    "data = data[data['publish_date'].str.startswith(tuple(years))]\n",
    "data.info()"
   ]
  },
  {
   "cell_type": "code",
   "execution_count": 13,
   "id": "86f4f7ec-efcf-49b2-ad33-d396121e36de",
   "metadata": {},
   "outputs": [
    {
     "name": "stdout",
     "output_type": "stream",
     "text": [
      "Events in the world from 2018-01-01 to 2021-12-31\n"
     ]
    }
   ],
   "source": [
    "print(\n",
    "    f'Events in the world', \n",
    "    f'from {datetime.strptime(data.publish_date.values[0], '%Y%m%d').strftime('%Y-%m-%d')}', \n",
    "    f'to {datetime.strptime(data.publish_date.values[-1], '%Y%m%d').strftime('%Y-%m-%d')}'\n",
    ")"
   ]
  },
  {
   "cell_type": "code",
   "execution_count": 15,
   "id": "cbc83105-7bd1-4675-9a85-7deff3cb528b",
   "metadata": {},
   "outputs": [
    {
     "data": {
      "text/plain": [
       "186375    10 us citizens 2 locals killed in costa rica p...\n",
       "186376    african gang crime out of control in melbourne...\n",
       "186377    a new generation of priests want to modernise ...\n",
       "186378         anti government protests spread through iran\n",
       "186379    astrology star signs vs astronomy zodiac const...\n",
       "                                ...                        \n",
       "318698    two aged care residents die as state records 2...\n",
       "318699    victoria records 5;919 new cases and seven deaths\n",
       "318700      wa delays adopting new close contact definition\n",
       "318701    western ringtail possums found badly dehydrate...\n",
       "318702    what makes you a close covid contact here are ...\n",
       "Name: headline_text, Length: 132328, dtype: object"
      ]
     },
     "execution_count": 15,
     "metadata": {},
     "output_type": "execute_result"
    }
   ],
   "source": [
    "# example dataset: a list of text documents\n",
    "documents = data['headline_text']\n",
    "documents"
   ]
  },
  {
   "cell_type": "markdown",
   "id": "259ca195-3591-4281-b68a-615e56944028",
   "metadata": {},
   "source": [
    "## Text data pre-processing"
   ]
  },
  {
   "cell_type": "markdown",
   "id": "bfbe4e73-1986-415f-bcfa-808aab05d7c1",
   "metadata": {},
   "source": [
    "Text data pre-processing involves __cleaning and transforming text into a structured format__ so that it can be analyzed. The key steps involved in text data pre-processing:\n",
    "\n",
    "1. __Text cleaning__\n",
    "2. __Tokenization__\n",
    "3. __Stop words removal__\n",
    "4. __Lemmatization__\n",
    "5. __Stemming__ \n"
   ]
  },
  {
   "cell_type": "markdown",
   "id": "d61423b4-2794-415e-8bc4-8cfbff15371a",
   "metadata": {},
   "source": [
    "### 1. Text cleaning"
   ]
  },
  {
   "cell_type": "markdown",
   "id": "b04c8bc4-5d7d-495c-85e8-73df06e580c0",
   "metadata": {},
   "source": [
    "Text data can contain irrelevant information such as special characters (e.g., punctuation marks, symbols, etc.). For example, we observe that the document at row 318699 contains punctuation marks. Therefore, we can check each document to see if there are any unncessary punctuation marks."
   ]
  },
  {
   "cell_type": "code",
   "execution_count": 20,
   "id": "f3370352-2426-4dc0-96ff-4fb4e0b243e1",
   "metadata": {},
   "outputs": [
    {
     "data": {
      "text/plain": [
       "186396    hawkesbury river seaplane crash: recovery effo...\n",
       "186417    new years celebrations a fantastic success; po...\n",
       "186438                   the zodiac: your year in the stars\n",
       "186442    we are fortunate: melbourne couple lucky not t...\n",
       "186503    no evidence of fault with dhc 2 beaver; atsb says\n",
       "                                ...                        \n",
       "318683                january a significant challenge:foley\n",
       "318685              nsw records 21;151 new case of covid 19\n",
       "318697     to come away with gold with so much uncertainty;\n",
       "318698    two aged care residents die as state records 2...\n",
       "318699    victoria records 5;919 new cases and seven deaths\n",
       "Name: headline_text, Length: 4071, dtype: object"
      ]
     },
     "execution_count": 20,
     "metadata": {},
     "output_type": "execute_result"
    }
   ],
   "source": [
    "# define a function to check if punctuation exists in a text\n",
    "def contains_punct(text_data):\n",
    "    return bool(re.search(r'[{}]'.format(re.escape(string.punctuation)), text_data))\n",
    "\n",
    "documents[documents.apply(contains_punct)]"
   ]
  },
  {
   "cell_type": "markdown",
   "id": "e455e188-3883-4188-bd05-f6fe63f2a7c7",
   "metadata": {},
   "source": [
    "We found 4071 documents tha contains punctuation marks. The next step is to remove each punctuation mark from each of these documents."
   ]
  },
  {
   "cell_type": "code",
   "execution_count": 54,
   "id": "5d57ebba-27cd-4ecd-8069-340c0f854c81",
   "metadata": {},
   "outputs": [
    {
     "data": {
      "text/plain": [
       "186375    10 us citizens 2 locals killed in costa rica p...\n",
       "186376    african gang crime out of control in melbourne...\n",
       "186377    a new generation of priests want to modernise ...\n",
       "186378         anti government protests spread through iran\n",
       "                                ...                        \n",
       "318699     victoria records 5919 new cases and seven deaths\n",
       "318700      wa delays adopting new close contact definition\n",
       "318701    western ringtail possums found badly dehydrate...\n",
       "318702    what makes you a close covid contact here are ...\n",
       "Name: headline_text, Length: 132328, dtype: object"
      ]
     },
     "execution_count": 54,
     "metadata": {},
     "output_type": "execute_result"
    }
   ],
   "source": [
    "# define a function to remove punctuation\n",
    "def remove_punct(text_data):\n",
    "    # use re.sub() to replace punctuation with empty string\n",
    "    return re.sub(r'[{}]'.format(re.escape(string.punctuation)), '', text_data)\n",
    "# apply the function to every element in the DataFrame\n",
    "documents = documents.apply(remove_punct)\n",
    "documents"
   ]
  },
  {
   "cell_type": "markdown",
   "id": "bedb0c2a-86b6-4e7c-ae94-ccda24269dc6",
   "metadata": {},
   "source": [
    "### 2. Tokenization"
   ]
  },
  {
   "cell_type": "markdown",
   "id": "86739192-96ee-41c1-a0ba-d5414348f4a0",
   "metadata": {},
   "source": [
    "Firstly, it is necessary to __split the text into smaller (_tokens_)__. Let us use `word_tokenize` of `nltk.tokenize` to do this."
   ]
  },
  {
   "cell_type": "code",
   "execution_count": 22,
   "id": "facdeecd-6350-4fba-8107-d06deee9cf93",
   "metadata": {},
   "outputs": [
    {
     "name": "stderr",
     "output_type": "stream",
     "text": [
      "[nltk_data] Downloading package punkt to\n",
      "[nltk_data]     C:\\Users\\UTENTE\\AppData\\Roaming\\nltk_data...\n",
      "[nltk_data]   Package punkt is already up-to-date!\n"
     ]
    },
    {
     "data": {
      "text/plain": [
       "186375    [10, us, citizens, 2, locals, killed, in, cost...\n",
       "186376    [african, gang, crime, out, of, control, in, m...\n",
       "186377    [a, new, generation, of, priests, want, to, mo...\n",
       "186378    [anti, government, protests, spread, through, ...\n",
       "186379    [astrology, star, signs, vs, astronomy, zodiac...\n",
       "                                ...                        \n",
       "318698    [two, aged, care, residents, die, as, state, r...\n",
       "318699    [victoria, records, 5, ;, 919, new, cases, and...\n",
       "318700    [wa, delays, adopting, new, close, contact, de...\n",
       "318701    [western, ringtail, possums, found, badly, deh...\n",
       "318702    [what, makes, you, a, close, covid, contact, h...\n",
       "Name: headline_text, Length: 132328, dtype: object"
      ]
     },
     "execution_count": 22,
     "metadata": {},
     "output_type": "execute_result"
    }
   ],
   "source": [
    "# for word tokenization\n",
    "nltk.download('punkt')\n",
    "\n",
    "# okenize and convert text to lowercase\n",
    "tokens = documents.apply(lambda x: word_tokenize(str(x).lower()))\n",
    "tokens"
   ]
  },
  {
   "cell_type": "markdown",
   "id": "b7a3ba8a-850f-461e-8f1f-b42126dfb530",
   "metadata": {},
   "source": [
    "### 3. Stopwords removal"
   ]
  },
  {
   "cell_type": "markdown",
   "id": "0b549903-3393-46ab-8cbb-dc8515dae486",
   "metadata": {},
   "source": [
    "Stopwords are common terms (e.g., \"_the_\", \"_of_\", \"_to_\", etc.) that don’t contribute meaningful information to analysis. These __stopwords are removed__ from the text. The method `stopwords.words('english')` provides a list of common english stopwords. The list comprehension filters out any word that is found in the stop_words set."
   ]
  },
  {
   "cell_type": "code",
   "execution_count": 24,
   "id": "d828a44d-0236-415f-b60e-c6354ac7ba2e",
   "metadata": {},
   "outputs": [
    {
     "name": "stderr",
     "output_type": "stream",
     "text": [
      "[nltk_data] Downloading package stopwords to\n",
      "[nltk_data]     C:\\Users\\UTENTE\\AppData\\Roaming\\nltk_data...\n",
      "[nltk_data]   Package stopwords is already up-to-date!\n"
     ]
    },
    {
     "data": {
      "text/plain": [
       "186375    [10, us, citizens, 2, locals, killed, costa, r...\n",
       "186376    [african, gang, crime, control, melbourne, min...\n",
       "186377    [new, generation, priests, want, modernise, ch...\n",
       "186378           [anti, government, protests, spread, iran]\n",
       "186379    [astrology, star, signs, vs, astronomy, zodiac...\n",
       "                                ...                        \n",
       "318698    [two, aged, care, residents, die, state, recor...\n",
       "318699    [victoria, records, 5, ;, 919, new, cases, sev...\n",
       "318700    [wa, delays, adopting, new, close, contact, de...\n",
       "318701    [western, ringtail, possums, found, badly, deh...\n",
       "318702           [makes, close, covid, contact, new, rules]\n",
       "Name: headline_text, Length: 132328, dtype: object"
      ]
     },
     "execution_count": 24,
     "metadata": {},
     "output_type": "execute_result"
    }
   ],
   "source": [
    "# for stopwords\n",
    "nltk.download('stopwords')\n",
    "\n",
    "# get the list of English stopwords\n",
    "stop_words = set(stopwords.words('english'))\n",
    "# remove stopwords\n",
    "filtered_tokens = tokens.apply(lambda x: [word for word in x if word not in stop_words])\n",
    "filtered_tokens"
   ]
  },
  {
   "cell_type": "markdown",
   "id": "beb2fa5e-bb3b-4488-b7ce-240355a6337a",
   "metadata": {},
   "source": [
    "### 4. Lemmatization"
   ]
  },
  {
   "cell_type": "markdown",
   "id": "dbb0b9b5-2bb7-4904-9304-e8c42ec595ff",
   "metadata": {},
   "source": [
    "Lemmatization involves __reducing a term to its dictionary form__ (e.g., \"_residents_\" becomes \"_resident_\"). The class `WordNetLemmatizer` from the nltk.stem is commonly used to perform lemmatization. "
   ]
  },
  {
   "cell_type": "code",
   "execution_count": 26,
   "id": "0cb1f354-bac1-4bd9-a126-db14e81e2a35",
   "metadata": {},
   "outputs": [
    {
     "name": "stderr",
     "output_type": "stream",
     "text": [
      "[nltk_data] Downloading package wordnet to\n",
      "[nltk_data]     C:\\Users\\UTENTE\\AppData\\Roaming\\nltk_data...\n",
      "[nltk_data]   Package wordnet is already up-to-date!\n"
     ]
    },
    {
     "data": {
      "text/plain": [
       "186375    [10, u, citizen, 2, local, killed, costa, rica...\n",
       "186376    [african, gang, crime, control, melbourne, min...\n",
       "186377    [new, generation, priest, want, modernise, chu...\n",
       "186378            [anti, government, protest, spread, iran]\n",
       "186379    [astrology, star, sign, v, astronomy, zodiac, ...\n",
       "                                ...                        \n",
       "318698    [two, aged, care, resident, die, state, record...\n",
       "318699    [victoria, record, 5, ;, 919, new, case, seven...\n",
       "318700    [wa, delay, adopting, new, close, contact, def...\n",
       "318701    [western, ringtail, possum, found, badly, dehy...\n",
       "318702             [make, close, covid, contact, new, rule]\n",
       "Name: headline_text, Length: 132328, dtype: object"
      ]
     },
     "execution_count": 26,
     "metadata": {},
     "output_type": "execute_result"
    }
   ],
   "source": [
    "# for lemmatization\n",
    "nltk.download('wordnet')\n",
    "\n",
    "lemmatizer = WordNetLemmatizer()\n",
    "lemmatized_tokens = filtered_tokens.apply(lambda x: [lemmatizer.lemmatize(word) for word in x])\n",
    "lemmatized_tokens"
   ]
  },
  {
   "cell_type": "markdown",
   "id": "811e849b-a529-407f-aafa-de8572d9562c",
   "metadata": {},
   "source": [
    "### 5. Stemming"
   ]
  },
  {
   "cell_type": "markdown",
   "id": "86571103-1ddd-49f8-8b21-362cc2d2a074",
   "metadata": {},
   "source": [
    "Stemming __reduces terms to their root form__ by stripping suffixes (e.g., \"_government_\" becomes \"_govern_\"). The class `PorterStemmer` from from the nltk.stem uses a series of heuristic rules to improve stemming, and while it works well for many common words, it may not handle some edge cases perfectly."
   ]
  },
  {
   "cell_type": "code",
   "execution_count": 28,
   "id": "2217f790-cc40-4817-89f0-2a0ce1d6fe51",
   "metadata": {},
   "outputs": [
    {
     "data": {
      "text/plain": [
       "186375    [10, u, citizen, 2, local, kill, costa, rica, ...\n",
       "186376    [african, gang, crime, control, melbourn, mini...\n",
       "186377         [new, gener, priest, want, modernis, church]\n",
       "186378                [anti, govern, protest, spread, iran]\n",
       "186379    [astrolog, star, sign, v, astronomi, zodiac, c...\n",
       "                                ...                        \n",
       "318698    [two, age, care, resid, die, state, record, 2,...\n",
       "318699    [victoria, record, 5, ;, 919, new, case, seven...\n",
       "318700     [wa, delay, adopt, new, close, contact, definit]\n",
       "318701    [western, ringtail, possum, found, badli, dehy...\n",
       "318702             [make, close, covid, contact, new, rule]\n",
       "Name: headline_text, Length: 132328, dtype: object"
      ]
     },
     "execution_count": 28,
     "metadata": {},
     "output_type": "execute_result"
    }
   ],
   "source": [
    "stemmer = PorterStemmer()\n",
    "stemmed_tokens = lemmatized_tokens.apply(lambda x: [stemmer.stem(word) for word in x])\n",
    "stemmed_tokens"
   ]
  },
  {
   "cell_type": "markdown",
   "id": "f2d1818c-f3de-4fef-af22-43141ae8ba41",
   "metadata": {},
   "source": [
    "## Term frequency distribution"
   ]
  },
  {
   "cell_type": "markdown",
   "id": "782d5082-da2e-4a10-ad5e-8bdd2f43d471",
   "metadata": {},
   "source": [
    "We can plot a 2-D graph with words on the x-axis and their counts on the y-axis to visualize the word frequency distribution. We use use the `nltk.FreqDist` class, which computes the frequency distribution of tokens. \n",
    "\n",
    "The series of the stemmed tokens contains lists of tokens for each document. We use a list comprehension to flatten all token lists into a single list `all_tokens`."
   ]
  },
  {
   "cell_type": "code",
   "execution_count": 30,
   "id": "0c219a0e-bd73-46c0-906a-fc8a924bc0f7",
   "metadata": {},
   "outputs": [
    {
     "data": {
      "image/png": "[encoded data removed]",
      "text/plain": [
       "<Figure size 640x480 with 1 Axes>"
      ]
     },
     "metadata": {},
     "output_type": "display_data"
    }
   ],
   "source": [
    "# flatten the token list for the entire dataset\n",
    "all_tokens = [token for tokens_list in stemmed_tokens for token in tokens_list]\n",
    "fdist = FreqDist(all_tokens)\n",
    "\n",
    "# show top 40 most common tokens\n",
    "fdist.plot(40, cumulative=False, c='k');  "
   ]
  },
  {
   "cell_type": "markdown",
   "id": "1e16d5f2-ad0b-4b70-8885-d1007d491752",
   "metadata": {},
   "source": [
    "## TF-IDF calculation"
   ]
  },
  {
   "cell_type": "markdown",
   "id": "7f78cae2-7ec4-4c0c-bea7-889ac5d1b61e",
   "metadata": {},
   "source": [
    "To calculate the TF-IDF statistic (Term Frequency-Inverse Document Frequency) we use `TfidfVectorizer` class from the `sklearn.feature_extraction.text` module of scikit-learn. Here's the steps to do it:\n",
    "\n",
    "1. Initialize TfidfVectorizer\n",
    "2. Fit and transform the data\n",
    "3. Display the Result\n"
   ]
  },
  {
   "cell_type": "markdown",
   "id": "c579721c-842e-46f2-b640-29f0b67b80b9",
   "metadata": {},
   "source": [
    "### 1. TfidfVectorizer"
   ]
  },
  {
   "cell_type": "markdown",
   "id": "0b52e159-882b-43f4-9683-5414536b3a6a",
   "metadata": {},
   "source": [
    "`TfidfVectorizer` computes the TF-IDF score for each term in the provided documents. We set `max_features=20` to limit the output to the 20 most important terms based on their TF-IDF scores."
   ]
  },
  {
   "cell_type": "code",
   "execution_count": 32,
   "id": "5ef28068-cdf6-4e86-abe3-7772d9af9b28",
   "metadata": {},
   "outputs": [
    {
     "data": {
      "text/html": [
       "<style>#sk-container-id-1 {\n",
       "  /* Definition of color scheme common for light and dark mode */\n",
       "  --sklearn-color-text: black;\n",
       "  --sklearn-color-line: gray;\n",
       "  /* Definition of color scheme for unfitted estimators */\n",
       "  --sklearn-color-unfitted-level-0: #fff5e6;\n",
       "  --sklearn-color-unfitted-level-1: #f6e4d2;\n",
       "  --sklearn-color-unfitted-level-2: #ffe0b3;\n",
       "  --sklearn-color-unfitted-level-3: chocolate;\n",
       "  /* Definition of color scheme for fitted estimators */\n",
       "  --sklearn-color-fitted-level-0: #f0f8ff;\n",
       "  --sklearn-color-fitted-level-1: #d4ebff;\n",
       "  --sklearn-color-fitted-level-2: #b3dbfd;\n",
       "  --sklearn-color-fitted-level-3: cornflowerblue;\n",
       "\n",
       "  /* Specific color for light theme */\n",
       "  --sklearn-color-text-on-default-background: var(--sg-text-color, var(--theme-code-foreground, var(--jp-content-font-color1, black)));\n",
       "  --sklearn-color-background: var(--sg-background-color, var(--theme-background, var(--jp-layout-color0, white)));\n",
       "  --sklearn-color-border-box: var(--sg-text-color, var(--theme-code-foreground, var(--jp-content-font-color1, black)));\n",
       "  --sklearn-color-icon: #696969;\n",
       "\n",
       "  @media (prefers-color-scheme: dark) {\n",
       "    /* Redefinition of color scheme for dark theme */\n",
       "    --sklearn-color-text-on-default-background: var(--sg-text-color, var(--theme-code-foreground, var(--jp-content-font-color1, white)));\n",
       "    --sklearn-color-background: var(--sg-background-color, var(--theme-background, var(--jp-layout-color0, #111)));\n",
       "    --sklearn-color-border-box: var(--sg-text-color, var(--theme-code-foreground, var(--jp-content-font-color1, white)));\n",
       "    --sklearn-color-icon: #878787;\n",
       "  }\n",
       "}\n",
       "\n",
       "#sk-container-id-1 {\n",
       "  color: var(--sklearn-color-text);\n",
       "}\n",
       "\n",
       "#sk-container-id-1 pre {\n",
       "  padding: 0;\n",
       "}\n",
       "\n",
       "#sk-container-id-1 input.sk-hidden--visually {\n",
       "  border: 0;\n",
       "  clip: rect(1px 1px 1px 1px);\n",
       "  clip: rect(1px, 1px, 1px, 1px);\n",
       "  height: 1px;\n",
       "  margin: -1px;\n",
       "  overflow: hidden;\n",
       "  padding: 0;\n",
       "  position: absolute;\n",
       "  width: 1px;\n",
       "}\n",
       "\n",
       "#sk-container-id-1 div.sk-dashed-wrapped {\n",
       "  border: 1px dashed var(--sklearn-color-line);\n",
       "  margin: 0 0.4em 0.5em 0.4em;\n",
       "  box-sizing: border-box;\n",
       "  padding-bottom: 0.4em;\n",
       "  background-color: var(--sklearn-color-background);\n",
       "}\n",
       "\n",
       "#sk-container-id-1 div.sk-container {\n",
       "  /* jupyter's `normalize.less` sets `[hidden] { display: none; }`\n",
       "     but bootstrap.min.css set `[hidden] { display: none !important; }`\n",
       "     so we also need the `!important` here to be able to override the\n",
       "     default hidden behavior on the sphinx rendered scikit-learn.org.\n",
       "     See: https://github.com/scikit-learn/scikit-learn/issues/21755 */\n",
       "  display: inline-block !important;\n",
       "  position: relative;\n",
       "}\n",
       "\n",
       "#sk-container-id-1 div.sk-text-repr-fallback {\n",
       "  display: none;\n",
       "}\n",
       "\n",
       "div.sk-parallel-item,\n",
       "div.sk-serial,\n",
       "div.sk-item {\n",
       "  /* draw centered vertical line to link estimators */\n",
       "  background-image: linear-gradient(var(--sklearn-color-text-on-default-background), var(--sklearn-color-text-on-default-background));\n",
       "  background-size: 2px 100%;\n",
       "  background-repeat: no-repeat;\n",
       "  background-position: center center;\n",
       "}\n",
       "\n",
       "/* Parallel-specific style estimator block */\n",
       "\n",
       "#sk-container-id-1 div.sk-parallel-item::after {\n",
       "  content: \"\";\n",
       "  width: 100%;\n",
       "  border-bottom: 2px solid var(--sklearn-color-text-on-default-background);\n",
       "  flex-grow: 1;\n",
       "}\n",
       "\n",
       "#sk-container-id-1 div.sk-parallel {\n",
       "  display: flex;\n",
       "  align-items: stretch;\n",
       "  justify-content: center;\n",
       "  background-color: var(--sklearn-color-background);\n",
       "  position: relative;\n",
       "}\n",
       "\n",
       "#sk-container-id-1 div.sk-parallel-item {\n",
       "  display: flex;\n",
       "  flex-direction: column;\n",
       "}\n",
       "\n",
       "#sk-container-id-1 div.sk-parallel-item:first-child::after {\n",
       "  align-self: flex-end;\n",
       "  width: 50%;\n",
       "}\n",
       "\n",
       "#sk-container-id-1 div.sk-parallel-item:last-child::after {\n",
       "  align-self: flex-start;\n",
       "  width: 50%;\n",
       "}\n",
       "\n",
       "#sk-container-id-1 div.sk-parallel-item:only-child::after {\n",
       "  width: 0;\n",
       "}\n",
       "\n",
       "/* Serial-specific style estimator block */\n",
       "\n",
       "#sk-container-id-1 div.sk-serial {\n",
       "  display: flex;\n",
       "  flex-direction: column;\n",
       "  align-items: center;\n",
       "  background-color: var(--sklearn-color-background);\n",
       "  padding-right: 1em;\n",
       "  padding-left: 1em;\n",
       "}\n",
       "\n",
       "\n",
       "/* Toggleable style: style used for estimator/Pipeline/ColumnTransformer box that is\n",
       "clickable and can be expanded/collapsed.\n",
       "- Pipeline and ColumnTransformer use this feature and define the default style\n",
       "- Estimators will overwrite some part of the style using the `sk-estimator` class\n",
       "*/\n",
       "\n",
       "/* Pipeline and ColumnTransformer style (default) */\n",
       "\n",
       "#sk-container-id-1 div.sk-toggleable {\n",
       "  /* Default theme specific background. It is overwritten whether we have a\n",
       "  specific estimator or a Pipeline/ColumnTransformer */\n",
       "  background-color: var(--sklearn-color-background);\n",
       "}\n",
       "\n",
       "/* Toggleable label */\n",
       "#sk-container-id-1 label.sk-toggleable__label {\n",
       "  cursor: pointer;\n",
       "  display: block;\n",
       "  width: 100%;\n",
       "  margin-bottom: 0;\n",
       "  padding: 0.5em;\n",
       "  box-sizing: border-box;\n",
       "  text-align: center;\n",
       "}\n",
       "\n",
       "#sk-container-id-1 label.sk-toggleable__label-arrow:before {\n",
       "  /* Arrow on the left of the label */\n",
       "  content: \"▸\";\n",
       "  float: left;\n",
       "  margin-right: 0.25em;\n",
       "  color: var(--sklearn-color-icon);\n",
       "}\n",
       "\n",
       "#sk-container-id-1 label.sk-toggleable__label-arrow:hover:before {\n",
       "  color: var(--sklearn-color-text);\n",
       "}\n",
       "\n",
       "/* Toggleable content - dropdown */\n",
       "\n",
       "#sk-container-id-1 div.sk-toggleable__content {\n",
       "  max-height: 0;\n",
       "  max-width: 0;\n",
       "  overflow: hidden;\n",
       "  text-align: left;\n",
       "  /* unfitted */\n",
       "  background-color: var(--sklearn-color-unfitted-level-0);\n",
       "}\n",
       "\n",
       "#sk-container-id-1 div.sk-toggleable__content.fitted {\n",
       "  /* fitted */\n",
       "  background-color: var(--sklearn-color-fitted-level-0);\n",
       "}\n",
       "\n",
       "#sk-container-id-1 div.sk-toggleable__content pre {\n",
       "  margin: 0.2em;\n",
       "  border-radius: 0.25em;\n",
       "  color: var(--sklearn-color-text);\n",
       "  /* unfitted */\n",
       "  background-color: var(--sklearn-color-unfitted-level-0);\n",
       "}\n",
       "\n",
       "#sk-container-id-1 div.sk-toggleable__content.fitted pre {\n",
       "  /* unfitted */\n",
       "  background-color: var(--sklearn-color-fitted-level-0);\n",
       "}\n",
       "\n",
       "#sk-container-id-1 input.sk-toggleable__control:checked~div.sk-toggleable__content {\n",
       "  /* Expand drop-down */\n",
       "  max-height: 200px;\n",
       "  max-width: 100%;\n",
       "  overflow: auto;\n",
       "}\n",
       "\n",
       "#sk-container-id-1 input.sk-toggleable__control:checked~label.sk-toggleable__label-arrow:before {\n",
       "  content: \"▾\";\n",
       "}\n",
       "\n",
       "/* Pipeline/ColumnTransformer-specific style */\n",
       "\n",
       "#sk-container-id-1 div.sk-label input.sk-toggleable__control:checked~label.sk-toggleable__label {\n",
       "  color: var(--sklearn-color-text);\n",
       "  background-color: var(--sklearn-color-unfitted-level-2);\n",
       "}\n",
       "\n",
       "#sk-container-id-1 div.sk-label.fitted input.sk-toggleable__control:checked~label.sk-toggleable__label {\n",
       "  background-color: var(--sklearn-color-fitted-level-2);\n",
       "}\n",
       "\n",
       "/* Estimator-specific style */\n",
       "\n",
       "/* Colorize estimator box */\n",
       "#sk-container-id-1 div.sk-estimator input.sk-toggleable__control:checked~label.sk-toggleable__label {\n",
       "  /* unfitted */\n",
       "  background-color: var(--sklearn-color-unfitted-level-2);\n",
       "}\n",
       "\n",
       "#sk-container-id-1 div.sk-estimator.fitted input.sk-toggleable__control:checked~label.sk-toggleable__label {\n",
       "  /* fitted */\n",
       "  background-color: var(--sklearn-color-fitted-level-2);\n",
       "}\n",
       "\n",
       "#sk-container-id-1 div.sk-label label.sk-toggleable__label,\n",
       "#sk-container-id-1 div.sk-label label {\n",
       "  /* The background is the default theme color */\n",
       "  color: var(--sklearn-color-text-on-default-background);\n",
       "}\n",
       "\n",
       "/* On hover, darken the color of the background */\n",
       "#sk-container-id-1 div.sk-label:hover label.sk-toggleable__label {\n",
       "  color: var(--sklearn-color-text);\n",
       "  background-color: var(--sklearn-color-unfitted-level-2);\n",
       "}\n",
       "\n",
       "/* Label box, darken color on hover, fitted */\n",
       "#sk-container-id-1 div.sk-label.fitted:hover label.sk-toggleable__label.fitted {\n",
       "  color: var(--sklearn-color-text);\n",
       "  background-color: var(--sklearn-color-fitted-level-2);\n",
       "}\n",
       "\n",
       "/* Estimator label */\n",
       "\n",
       "#sk-container-id-1 div.sk-label label {\n",
       "  font-family: monospace;\n",
       "  font-weight: bold;\n",
       "  display: inline-block;\n",
       "  line-height: 1.2em;\n",
       "}\n",
       "\n",
       "#sk-container-id-1 div.sk-label-container {\n",
       "  text-align: center;\n",
       "}\n",
       "\n",
       "/* Estimator-specific */\n",
       "#sk-container-id-1 div.sk-estimator {\n",
       "  font-family: monospace;\n",
       "  border: 1px dotted var(--sklearn-color-border-box);\n",
       "  border-radius: 0.25em;\n",
       "  box-sizing: border-box;\n",
       "  margin-bottom: 0.5em;\n",
       "  /* unfitted */\n",
       "  background-color: var(--sklearn-color-unfitted-level-0);\n",
       "}\n",
       "\n",
       "#sk-container-id-1 div.sk-estimator.fitted {\n",
       "  /* fitted */\n",
       "  background-color: var(--sklearn-color-fitted-level-0);\n",
       "}\n",
       "\n",
       "/* on hover */\n",
       "#sk-container-id-1 div.sk-estimator:hover {\n",
       "  /* unfitted */\n",
       "  background-color: var(--sklearn-color-unfitted-level-2);\n",
       "}\n",
       "\n",
       "#sk-container-id-1 div.sk-estimator.fitted:hover {\n",
       "  /* fitted */\n",
       "  background-color: var(--sklearn-color-fitted-level-2);\n",
       "}\n",
       "\n",
       "/* Specification for estimator info (e.g. \"i\" and \"?\") */\n",
       "\n",
       "/* Common style for \"i\" and \"?\" */\n",
       "\n",
       ".sk-estimator-doc-link,\n",
       "a:link.sk-estimator-doc-link,\n",
       "a:visited.sk-estimator-doc-link {\n",
       "  float: right;\n",
       "  font-size: smaller;\n",
       "  line-height: 1em;\n",
       "  font-family: monospace;\n",
       "  background-color: var(--sklearn-color-background);\n",
       "  border-radius: 1em;\n",
       "  height: 1em;\n",
       "  width: 1em;\n",
       "  text-decoration: none !important;\n",
       "  margin-left: 1ex;\n",
       "  /* unfitted */\n",
       "  border: var(--sklearn-color-unfitted-level-1) 1pt solid;\n",
       "  color: var(--sklearn-color-unfitted-level-1);\n",
       "}\n",
       "\n",
       ".sk-estimator-doc-link.fitted,\n",
       "a:link.sk-estimator-doc-link.fitted,\n",
       "a:visited.sk-estimator-doc-link.fitted {\n",
       "  /* fitted */\n",
       "  border: var(--sklearn-color-fitted-level-1) 1pt solid;\n",
       "  color: var(--sklearn-color-fitted-level-1);\n",
       "}\n",
       "\n",
       "/* On hover */\n",
       "div.sk-estimator:hover .sk-estimator-doc-link:hover,\n",
       ".sk-estimator-doc-link:hover,\n",
       "div.sk-label-container:hover .sk-estimator-doc-link:hover,\n",
       ".sk-estimator-doc-link:hover {\n",
       "  /* unfitted */\n",
       "  background-color: var(--sklearn-color-unfitted-level-3);\n",
       "  color: var(--sklearn-color-background);\n",
       "  text-decoration: none;\n",
       "}\n",
       "\n",
       "div.sk-estimator.fitted:hover .sk-estimator-doc-link.fitted:hover,\n",
       ".sk-estimator-doc-link.fitted:hover,\n",
       "div.sk-label-container:hover .sk-estimator-doc-link.fitted:hover,\n",
       ".sk-estimator-doc-link.fitted:hover {\n",
       "  /* fitted */\n",
       "  background-color: var(--sklearn-color-fitted-level-3);\n",
       "  color: var(--sklearn-color-background);\n",
       "  text-decoration: none;\n",
       "}\n",
       "\n",
       "/* Span, style for the box shown on hovering the info icon */\n",
       ".sk-estimator-doc-link span {\n",
       "  display: none;\n",
       "  z-index: 9999;\n",
       "  position: relative;\n",
       "  font-weight: normal;\n",
       "  right: .2ex;\n",
       "  padding: .5ex;\n",
       "  margin: .5ex;\n",
       "  width: min-content;\n",
       "  min-width: 20ex;\n",
       "  max-width: 50ex;\n",
       "  color: var(--sklearn-color-text);\n",
       "  box-shadow: 2pt 2pt 4pt #999;\n",
       "  /* unfitted */\n",
       "  background: var(--sklearn-color-unfitted-level-0);\n",
       "  border: .5pt solid var(--sklearn-color-unfitted-level-3);\n",
       "}\n",
       "\n",
       ".sk-estimator-doc-link.fitted span {\n",
       "  /* fitted */\n",
       "  background: var(--sklearn-color-fitted-level-0);\n",
       "  border: var(--sklearn-color-fitted-level-3);\n",
       "}\n",
       "\n",
       ".sk-estimator-doc-link:hover span {\n",
       "  display: block;\n",
       "}\n",
       "\n",
       "/* \"?\"-specific style due to the `<a>` HTML tag */\n",
       "\n",
       "#sk-container-id-1 a.estimator_doc_link {\n",
       "  float: right;\n",
       "  font-size: 1rem;\n",
       "  line-height: 1em;\n",
       "  font-family: monospace;\n",
       "  background-color: var(--sklearn-color-background);\n",
       "  border-radius: 1rem;\n",
       "  height: 1rem;\n",
       "  width: 1rem;\n",
       "  text-decoration: none;\n",
       "  /* unfitted */\n",
       "  color: var(--sklearn-color-unfitted-level-1);\n",
       "  border: var(--sklearn-color-unfitted-level-1) 1pt solid;\n",
       "}\n",
       "\n",
       "#sk-container-id-1 a.estimator_doc_link.fitted {\n",
       "  /* fitted */\n",
       "  border: var(--sklearn-color-fitted-level-1) 1pt solid;\n",
       "  color: var(--sklearn-color-fitted-level-1);\n",
       "}\n",
       "\n",
       "/* On hover */\n",
       "#sk-container-id-1 a.estimator_doc_link:hover {\n",
       "  /* unfitted */\n",
       "  background-color: var(--sklearn-color-unfitted-level-3);\n",
       "  color: var(--sklearn-color-background);\n",
       "  text-decoration: none;\n",
       "}\n",
       "\n",
       "#sk-container-id-1 a.estimator_doc_link.fitted:hover {\n",
       "  /* fitted */\n",
       "  background-color: var(--sklearn-color-fitted-level-3);\n",
       "}\n",
       "</style><div id=\"sk-container-id-1\" class=\"sk-top-container\"><div class=\"sk-text-repr-fallback\"><pre>TfidfVectorizer(max_features=20)</pre><b>In a Jupyter environment, please rerun this cell to show the HTML representation or trust the notebook. <br />On GitHub, the HTML representation is unable to render, please try loading this page with nbviewer.org.</b></div><div class=\"sk-container\" hidden><div class=\"sk-item\"><div class=\"sk-estimator  sk-toggleable\"><input class=\"sk-toggleable__control sk-hidden--visually\" id=\"sk-estimator-id-1\" type=\"checkbox\" checked><label for=\"sk-estimator-id-1\" class=\"sk-toggleable__label  sk-toggleable__label-arrow \">&nbsp;&nbsp;TfidfVectorizer<a class=\"sk-estimator-doc-link \" rel=\"noreferrer\" target=\"_blank\" href=\"https://scikit-learn.org/1.4/modules/generated/sklearn.feature_extraction.text.TfidfVectorizer.html\">?<span>Documentation for TfidfVectorizer</span></a><span class=\"sk-estimator-doc-link \">i<span>Not fitted</span></span></label><div class=\"sk-toggleable__content \"><pre>TfidfVectorizer(max_features=20)</pre></div> </div></div></div></div>"
      ],
      "text/plain": [
       "TfidfVectorizer(max_features=20)"
      ]
     },
     "execution_count": 32,
     "metadata": {},
     "output_type": "execute_result"
    }
   ],
   "source": [
    "# compute TF-IDF using TfidfVectorizer\n",
    "vectorizer = TfidfVectorizer(max_features=20)\n",
    "vectorizer"
   ]
  },
  {
   "cell_type": "markdown",
   "id": "23d36bae-6299-4004-979c-42f5d416a17c",
   "metadata": {},
   "source": [
    "### 2. Fit and transform the data"
   ]
  },
  {
   "cell_type": "markdown",
   "id": "e7e6c311-b4f6-4b9d-b5a7-6711aa1e1fc4",
   "metadata": {},
   "source": [
    "The `.fit_transform()` method fits the vectorizer to the input text and then transforms the text into a TF-IDF matrix."
   ]
  },
  {
   "cell_type": "code",
   "execution_count": 34,
   "id": "5466f18a-c22b-4a6f-862b-58ea562d1a78",
   "metadata": {},
   "outputs": [
    {
     "data": {
      "text/plain": [
       "<854558x20 sparse matrix of type '<class 'numpy.float64'>'\n",
       "\twith 69345 stored elements in Compressed Sparse Row format>"
      ]
     },
     "metadata": {},
     "output_type": "display_data"
    },
    {
     "name": "stdout",
     "output_type": "stream",
     "text": [
      "\n",
      " [[0. 0. 0. ... 0. 0. 0.]\n",
      " [0. 0. 0. ... 0. 0. 0.]\n",
      " [0. 0. 0. ... 0. 0. 0.]\n",
      " ...\n",
      " [0. 0. 0. ... 0. 0. 0.]\n",
      " [0. 0. 0. ... 0. 0. 0.]\n",
      " [0. 0. 0. ... 0. 0. 0.]]\n"
     ]
    }
   ],
   "source": [
    "tfidf_matrix = vectorizer.fit_transform(all_tokens)\n",
    "display(tfidf_matrix)\n",
    "print('\\n', tfidf_matrix.toarray())"
   ]
  },
  {
   "cell_type": "markdown",
   "id": "c113ba31-cf4d-48d0-a5de-b3850c36c095",
   "metadata": {},
   "source": [
    "The resulting tfidf_matrix is a sparse matrix and represents the TF-IDF values for each word in each document.\n",
    "\n",
    "After transforming, we can view the resulting TF-IDF matrix, tipically in a pandas DataFrame for easier viewing and understanding, where rows represent documents and columns represent the terms/words."
   ]
  },
  {
   "cell_type": "code",
   "execution_count": 36,
   "id": "a7043ba3-ec02-42d3-82fd-9e3193c036a5",
   "metadata": {},
   "outputs": [
    {
     "name": "stdout",
     "output_type": "stream",
     "text": [
      "         19  australia  australian  case  ...  trump  victoria  woman  year\n",
      "0       0.0        0.0         0.0   0.0  ...    0.0       0.0    0.0   0.0\n",
      "1       0.0        0.0         0.0   0.0  ...    0.0       0.0    0.0   0.0\n",
      "2       0.0        0.0         0.0   0.0  ...    0.0       0.0    0.0   0.0\n",
      "3       0.0        0.0         0.0   0.0  ...    0.0       0.0    0.0   0.0\n",
      "...     ...        ...         ...   ...  ...    ...       ...    ...   ...\n",
      "854554  0.0        0.0         0.0   0.0  ...    0.0       0.0    0.0   0.0\n",
      "854555  0.0        0.0         0.0   0.0  ...    0.0       0.0    0.0   0.0\n",
      "854556  0.0        0.0         0.0   0.0  ...    0.0       0.0    0.0   0.0\n",
      "854557  0.0        0.0         0.0   0.0  ...    0.0       0.0    0.0   0.0\n",
      "\n",
      "[854558 rows x 20 columns]\n"
     ]
    }
   ],
   "source": [
    "set_option('display.max_rows', 8)  \n",
    "set_option('display.max_columns', 8)  \n",
    "\n",
    "# convert the TF-IDF matrix to a DataFrame \n",
    "tfidf_df = DataFrame(\n",
    "    tfidf_matrix.toarray(), \n",
    "    columns=vectorizer.get_feature_names_out()\n",
    ")\n",
    "print(tfidf_df)"
   ]
  },
  {
   "cell_type": "markdown",
   "id": "503e1535-bf95-4628-a1d3-7ff62be58b21",
   "metadata": {},
   "source": [
    "### 3. Display the Result "
   ]
  },
  {
   "cell_type": "markdown",
   "id": "18e6194a-5c7c-4893-96d6-4f12a46db498",
   "metadata": {},
   "source": [
    "To get the sum of the TF-IDF scores for each term across all documents in tfidf_df dataframe, we can use the `sum()` function, specifying the `axis=0 argument`. This will sum the values column-wise, giving the total TF-IDF score for each term across all documents. The resulting series is then reconverted into a DataFrame sorting by the first column in descending order to prioritize words with the highest TF-IDF scores. The method `reset_index()` is used to reset the index after sorting. Lastly, the columns are renamed."
   ]
  },
  {
   "cell_type": "code",
   "execution_count": 38,
   "id": "a1ed2cea-33c0-4223-bcc6-a025f18ee5ec",
   "metadata": {},
   "outputs": [
    {
     "name": "stdout",
     "output_type": "stream",
     "text": [
      "          term   tfidf\n",
      "0   coronaviru  8949.0\n",
      "1    australia  5416.0\n",
      "2        covid  4597.0\n",
      "3          new  4237.0\n",
      "..         ...     ...\n",
      "16        year  2346.0\n",
      "17       elect  2205.0\n",
      "18      govern  2154.0\n",
      "19       death  2137.0\n",
      "\n",
      "[20 rows x 2 columns]\n"
     ]
    }
   ],
   "source": [
    "term_scores_df = tfidf_df.sum(axis=0) \\\n",
    "    .to_frame() \\\n",
    "    .sort_values(by=0, ascending=False) \\\n",
    "    .reset_index() \\\n",
    "    .rename(columns={'index': 'term', 0: 'tfidf'})\n",
    "print(term_scores_df)"
   ]
  },
  {
   "cell_type": "markdown",
   "id": "e42db878-417b-420f-9a34-bef4be75d210",
   "metadata": {},
   "source": [
    "Here's the top 20 words with highest tf-idf values in this collection of documents."
   ]
  },
  {
   "cell_type": "code",
   "execution_count": 40,
   "id": "b0c29901-aadf-4c48-bd14-3ab1a1795704",
   "metadata": {},
   "outputs": [
    {
     "data": {
      "image/png": "[encoded data removed]",
      "text/plain": [
       "<Figure size 640x480 with 1 Axes>"
      ]
     },
     "metadata": {},
     "output_type": "display_data"
    }
   ],
   "source": [
    "# visualize the top 20 words using a bar plot\n",
    "sns.barplot(\n",
    "    data=term_scores_df.head(20), \n",
    "    x='tfidf', y='term', \n",
    "    # color='w', \n",
    "    edgecolor='k', palette='Greys_r',\n",
    "    hatch='////', \n",
    ")\n",
    "plt.title('Top 20 words by TF-IDF score\\n')\n",
    "plt.xlabel('TF-IDF score')\n",
    "plt.ylabel('Word');"
   ]
  },
  {
   "cell_type": "markdown",
   "id": "86aad60d-be6a-4797-9b93-cc10380d2748",
   "metadata": {},
   "source": [
    "The top 3 terms with the highest TF-IDF scores are \"_coronavirus_\", \"_australia_\", and \"_covid_\". These terms suggest that the dataset is strongly focused on the COVID-19 pandemic, particularly in the context of Australia. Terms such as \"_elect_\", \"_govern_\", and \"_year_\" suggest that the dataset might also touch on political or governance-related themes, possibly discussing elections, government responses."
   ]
  },
  {
   "cell_type": "markdown",
   "id": "d82898f5-94cc-4995-9546-330d54105575",
   "metadata": {},
   "source": [
    "## Lda implementation"
   ]
  },
  {
   "cell_type": "markdown",
   "id": "89287754-9b51-4d3c-8ffa-0d8e0c8482e7",
   "metadata": {},
   "source": [
    "To implement Latent Dirichlet Allocation (LDA) using scikit-learn, you can use the `LatentDirichletAllocation` class from `sklearn.decomposition`. Here's the steps to implement it:\n",
    "\n",
    "1. Initialize CountVectorizer \n",
    "2. Fit the LDA model\n",
    "3. Display topics\n",
    "4. Topic distribution for document"
   ]
  },
  {
   "cell_type": "markdown",
   "id": "4fc3e03c-175f-4107-91dd-bcd823580473",
   "metadata": {},
   "source": [
    "### 1. Initialize CountVectorizer "
   ]
  },
  {
   "cell_type": "markdown",
   "id": "9943c262-ef76-4281-9555-090eeeb0b04a",
   "metadata": {},
   "source": [
    "The class `CountVectorizer` from the `sklearn.feature_extraction.text` module is used to convert text data into a Bag-of-Words (BoW) matrix, and we exclude common stopwords using `stop_words='english'`."
   ]
  },
  {
   "cell_type": "code",
   "execution_count": 42,
   "id": "6f783eb4-67a4-4948-befc-829a466d3f0a",
   "metadata": {},
   "outputs": [
    {
     "data": {
      "text/plain": [
       "<132328x45409 sparse matrix of type '<class 'numpy.int64'>'\n",
       "\twith 814806 stored elements in Compressed Sparse Row format>"
      ]
     },
     "metadata": {},
     "output_type": "display_data"
    },
    {
     "name": "stdout",
     "output_type": "stream",
     "text": [
      "\n",
      " [[0 0 0 ... 0 0 0]\n",
      " [0 0 0 ... 0 0 0]\n",
      " [0 0 0 ... 0 0 0]\n",
      " ...\n",
      " [0 0 0 ... 0 0 0]\n",
      " [0 0 0 ... 0 0 0]\n",
      " [0 0 0 ... 0 0 0]]\n"
     ]
    }
   ],
   "source": [
    "# step 1: vectorize the text data and\n",
    "# remove common English stop words\n",
    "vectorizer = CountVectorizer(stop_words='english')  \n",
    "X = vectorizer.fit_transform(documents)\n",
    "display(X)\n",
    "print('\\n', X.toarray())"
   ]
  },
  {
   "cell_type": "markdown",
   "id": "e4deadef-2c2b-4720-af2d-13c2a2dab200",
   "metadata": {},
   "source": [
    "The BoW representation often results in a sparse matrix, where sparsity due:\n",
    "\n",
    "- <u>high dimensionality</u>: each word in the vocabulary corresponds to a column in the matrix, if the vocabulary contains more several unique words, the matrix will have many columns;\n",
    "- <u>mostly zero cells</u>: this is because, in a given document, only a small subset of the vocabulary (words) will appear. The rest of the vocabulary will not be present in that document, leading to zero cells in those columns for that document."
   ]
  },
  {
   "cell_type": "markdown",
   "id": "848cbdf0-8bce-4199-aa4f-aaa6ce627036",
   "metadata": {},
   "source": [
    "### 2. Fit the LDA model "
   ]
  },
  {
   "cell_type": "markdown",
   "id": "2aacecb1-f349-4215-959d-90be0edb46dd",
   "metadata": {},
   "source": [
    "We use the class `LatentDirichletAllocation` from `sklearn.decomposition` to fit the model and extract topics. We define the LatentDirichletAllocation model with `n_components=2`, meaning the model will attempt to discover 2 topics. \n",
    "\n",
    "We then fit the LDA model on the document-term matrix (X). This learns the topics from the data."
   ]
  },
  {
   "cell_type": "code",
   "execution_count": 44,
   "id": "d87717ae-b531-4467-9f50-ca0506f78f99",
   "metadata": {},
   "outputs": [
    {
     "data": {
      "text/html": [
       "<style>#sk-container-id-2 {\n",
       "  /* Definition of color scheme common for light and dark mode */\n",
       "  --sklearn-color-text: black;\n",
       "  --sklearn-color-line: gray;\n",
       "  /* Definition of color scheme for unfitted estimators */\n",
       "  --sklearn-color-unfitted-level-0: #fff5e6;\n",
       "  --sklearn-color-unfitted-level-1: #f6e4d2;\n",
       "  --sklearn-color-unfitted-level-2: #ffe0b3;\n",
       "  --sklearn-color-unfitted-level-3: chocolate;\n",
       "  /* Definition of color scheme for fitted estimators */\n",
       "  --sklearn-color-fitted-level-0: #f0f8ff;\n",
       "  --sklearn-color-fitted-level-1: #d4ebff;\n",
       "  --sklearn-color-fitted-level-2: #b3dbfd;\n",
       "  --sklearn-color-fitted-level-3: cornflowerblue;\n",
       "\n",
       "  /* Specific color for light theme */\n",
       "  --sklearn-color-text-on-default-background: var(--sg-text-color, var(--theme-code-foreground, var(--jp-content-font-color1, black)));\n",
       "  --sklearn-color-background: var(--sg-background-color, var(--theme-background, var(--jp-layout-color0, white)));\n",
       "  --sklearn-color-border-box: var(--sg-text-color, var(--theme-code-foreground, var(--jp-content-font-color1, black)));\n",
       "  --sklearn-color-icon: #696969;\n",
       "\n",
       "  @media (prefers-color-scheme: dark) {\n",
       "    /* Redefinition of color scheme for dark theme */\n",
       "    --sklearn-color-text-on-default-background: var(--sg-text-color, var(--theme-code-foreground, var(--jp-content-font-color1, white)));\n",
       "    --sklearn-color-background: var(--sg-background-color, var(--theme-background, var(--jp-layout-color0, #111)));\n",
       "    --sklearn-color-border-box: var(--sg-text-color, var(--theme-code-foreground, var(--jp-content-font-color1, white)));\n",
       "    --sklearn-color-icon: #878787;\n",
       "  }\n",
       "}\n",
       "\n",
       "#sk-container-id-2 {\n",
       "  color: var(--sklearn-color-text);\n",
       "}\n",
       "\n",
       "#sk-container-id-2 pre {\n",
       "  padding: 0;\n",
       "}\n",
       "\n",
       "#sk-container-id-2 input.sk-hidden--visually {\n",
       "  border: 0;\n",
       "  clip: rect(1px 1px 1px 1px);\n",
       "  clip: rect(1px, 1px, 1px, 1px);\n",
       "  height: 1px;\n",
       "  margin: -1px;\n",
       "  overflow: hidden;\n",
       "  padding: 0;\n",
       "  position: absolute;\n",
       "  width: 1px;\n",
       "}\n",
       "\n",
       "#sk-container-id-2 div.sk-dashed-wrapped {\n",
       "  border: 1px dashed var(--sklearn-color-line);\n",
       "  margin: 0 0.4em 0.5em 0.4em;\n",
       "  box-sizing: border-box;\n",
       "  padding-bottom: 0.4em;\n",
       "  background-color: var(--sklearn-color-background);\n",
       "}\n",
       "\n",
       "#sk-container-id-2 div.sk-container {\n",
       "  /* jupyter's `normalize.less` sets `[hidden] { display: none; }`\n",
       "     but bootstrap.min.css set `[hidden] { display: none !important; }`\n",
       "     so we also need the `!important` here to be able to override the\n",
       "     default hidden behavior on the sphinx rendered scikit-learn.org.\n",
       "     See: https://github.com/scikit-learn/scikit-learn/issues/21755 */\n",
       "  display: inline-block !important;\n",
       "  position: relative;\n",
       "}\n",
       "\n",
       "#sk-container-id-2 div.sk-text-repr-fallback {\n",
       "  display: none;\n",
       "}\n",
       "\n",
       "div.sk-parallel-item,\n",
       "div.sk-serial,\n",
       "div.sk-item {\n",
       "  /* draw centered vertical line to link estimators */\n",
       "  background-image: linear-gradient(var(--sklearn-color-text-on-default-background), var(--sklearn-color-text-on-default-background));\n",
       "  background-size: 2px 100%;\n",
       "  background-repeat: no-repeat;\n",
       "  background-position: center center;\n",
       "}\n",
       "\n",
       "/* Parallel-specific style estimator block */\n",
       "\n",
       "#sk-container-id-2 div.sk-parallel-item::after {\n",
       "  content: \"\";\n",
       "  width: 100%;\n",
       "  border-bottom: 2px solid var(--sklearn-color-text-on-default-background);\n",
       "  flex-grow: 1;\n",
       "}\n",
       "\n",
       "#sk-container-id-2 div.sk-parallel {\n",
       "  display: flex;\n",
       "  align-items: stretch;\n",
       "  justify-content: center;\n",
       "  background-color: var(--sklearn-color-background);\n",
       "  position: relative;\n",
       "}\n",
       "\n",
       "#sk-container-id-2 div.sk-parallel-item {\n",
       "  display: flex;\n",
       "  flex-direction: column;\n",
       "}\n",
       "\n",
       "#sk-container-id-2 div.sk-parallel-item:first-child::after {\n",
       "  align-self: flex-end;\n",
       "  width: 50%;\n",
       "}\n",
       "\n",
       "#sk-container-id-2 div.sk-parallel-item:last-child::after {\n",
       "  align-self: flex-start;\n",
       "  width: 50%;\n",
       "}\n",
       "\n",
       "#sk-container-id-2 div.sk-parallel-item:only-child::after {\n",
       "  width: 0;\n",
       "}\n",
       "\n",
       "/* Serial-specific style estimator block */\n",
       "\n",
       "#sk-container-id-2 div.sk-serial {\n",
       "  display: flex;\n",
       "  flex-direction: column;\n",
       "  align-items: center;\n",
       "  background-color: var(--sklearn-color-background);\n",
       "  padding-right: 1em;\n",
       "  padding-left: 1em;\n",
       "}\n",
       "\n",
       "\n",
       "/* Toggleable style: style used for estimator/Pipeline/ColumnTransformer box that is\n",
       "clickable and can be expanded/collapsed.\n",
       "- Pipeline and ColumnTransformer use this feature and define the default style\n",
       "- Estimators will overwrite some part of the style using the `sk-estimator` class\n",
       "*/\n",
       "\n",
       "/* Pipeline and ColumnTransformer style (default) */\n",
       "\n",
       "#sk-container-id-2 div.sk-toggleable {\n",
       "  /* Default theme specific background. It is overwritten whether we have a\n",
       "  specific estimator or a Pipeline/ColumnTransformer */\n",
       "  background-color: var(--sklearn-color-background);\n",
       "}\n",
       "\n",
       "/* Toggleable label */\n",
       "#sk-container-id-2 label.sk-toggleable__label {\n",
       "  cursor: pointer;\n",
       "  display: block;\n",
       "  width: 100%;\n",
       "  margin-bottom: 0;\n",
       "  padding: 0.5em;\n",
       "  box-sizing: border-box;\n",
       "  text-align: center;\n",
       "}\n",
       "\n",
       "#sk-container-id-2 label.sk-toggleable__label-arrow:before {\n",
       "  /* Arrow on the left of the label */\n",
       "  content: \"▸\";\n",
       "  float: left;\n",
       "  margin-right: 0.25em;\n",
       "  color: var(--sklearn-color-icon);\n",
       "}\n",
       "\n",
       "#sk-container-id-2 label.sk-toggleable__label-arrow:hover:before {\n",
       "  color: var(--sklearn-color-text);\n",
       "}\n",
       "\n",
       "/* Toggleable content - dropdown */\n",
       "\n",
       "#sk-container-id-2 div.sk-toggleable__content {\n",
       "  max-height: 0;\n",
       "  max-width: 0;\n",
       "  overflow: hidden;\n",
       "  text-align: left;\n",
       "  /* unfitted */\n",
       "  background-color: var(--sklearn-color-unfitted-level-0);\n",
       "}\n",
       "\n",
       "#sk-container-id-2 div.sk-toggleable__content.fitted {\n",
       "  /* fitted */\n",
       "  background-color: var(--sklearn-color-fitted-level-0);\n",
       "}\n",
       "\n",
       "#sk-container-id-2 div.sk-toggleable__content pre {\n",
       "  margin: 0.2em;\n",
       "  border-radius: 0.25em;\n",
       "  color: var(--sklearn-color-text);\n",
       "  /* unfitted */\n",
       "  background-color: var(--sklearn-color-unfitted-level-0);\n",
       "}\n",
       "\n",
       "#sk-container-id-2 div.sk-toggleable__content.fitted pre {\n",
       "  /* unfitted */\n",
       "  background-color: var(--sklearn-color-fitted-level-0);\n",
       "}\n",
       "\n",
       "#sk-container-id-2 input.sk-toggleable__control:checked~div.sk-toggleable__content {\n",
       "  /* Expand drop-down */\n",
       "  max-height: 200px;\n",
       "  max-width: 100%;\n",
       "  overflow: auto;\n",
       "}\n",
       "\n",
       "#sk-container-id-2 input.sk-toggleable__control:checked~label.sk-toggleable__label-arrow:before {\n",
       "  content: \"▾\";\n",
       "}\n",
       "\n",
       "/* Pipeline/ColumnTransformer-specific style */\n",
       "\n",
       "#sk-container-id-2 div.sk-label input.sk-toggleable__control:checked~label.sk-toggleable__label {\n",
       "  color: var(--sklearn-color-text);\n",
       "  background-color: var(--sklearn-color-unfitted-level-2);\n",
       "}\n",
       "\n",
       "#sk-container-id-2 div.sk-label.fitted input.sk-toggleable__control:checked~label.sk-toggleable__label {\n",
       "  background-color: var(--sklearn-color-fitted-level-2);\n",
       "}\n",
       "\n",
       "/* Estimator-specific style */\n",
       "\n",
       "/* Colorize estimator box */\n",
       "#sk-container-id-2 div.sk-estimator input.sk-toggleable__control:checked~label.sk-toggleable__label {\n",
       "  /* unfitted */\n",
       "  background-color: var(--sklearn-color-unfitted-level-2);\n",
       "}\n",
       "\n",
       "#sk-container-id-2 div.sk-estimator.fitted input.sk-toggleable__control:checked~label.sk-toggleable__label {\n",
       "  /* fitted */\n",
       "  background-color: var(--sklearn-color-fitted-level-2);\n",
       "}\n",
       "\n",
       "#sk-container-id-2 div.sk-label label.sk-toggleable__label,\n",
       "#sk-container-id-2 div.sk-label label {\n",
       "  /* The background is the default theme color */\n",
       "  color: var(--sklearn-color-text-on-default-background);\n",
       "}\n",
       "\n",
       "/* On hover, darken the color of the background */\n",
       "#sk-container-id-2 div.sk-label:hover label.sk-toggleable__label {\n",
       "  color: var(--sklearn-color-text);\n",
       "  background-color: var(--sklearn-color-unfitted-level-2);\n",
       "}\n",
       "\n",
       "/* Label box, darken color on hover, fitted */\n",
       "#sk-container-id-2 div.sk-label.fitted:hover label.sk-toggleable__label.fitted {\n",
       "  color: var(--sklearn-color-text);\n",
       "  background-color: var(--sklearn-color-fitted-level-2);\n",
       "}\n",
       "\n",
       "/* Estimator label */\n",
       "\n",
       "#sk-container-id-2 div.sk-label label {\n",
       "  font-family: monospace;\n",
       "  font-weight: bold;\n",
       "  display: inline-block;\n",
       "  line-height: 1.2em;\n",
       "}\n",
       "\n",
       "#sk-container-id-2 div.sk-label-container {\n",
       "  text-align: center;\n",
       "}\n",
       "\n",
       "/* Estimator-specific */\n",
       "#sk-container-id-2 div.sk-estimator {\n",
       "  font-family: monospace;\n",
       "  border: 1px dotted var(--sklearn-color-border-box);\n",
       "  border-radius: 0.25em;\n",
       "  box-sizing: border-box;\n",
       "  margin-bottom: 0.5em;\n",
       "  /* unfitted */\n",
       "  background-color: var(--sklearn-color-unfitted-level-0);\n",
       "}\n",
       "\n",
       "#sk-container-id-2 div.sk-estimator.fitted {\n",
       "  /* fitted */\n",
       "  background-color: var(--sklearn-color-fitted-level-0);\n",
       "}\n",
       "\n",
       "/* on hover */\n",
       "#sk-container-id-2 div.sk-estimator:hover {\n",
       "  /* unfitted */\n",
       "  background-color: var(--sklearn-color-unfitted-level-2);\n",
       "}\n",
       "\n",
       "#sk-container-id-2 div.sk-estimator.fitted:hover {\n",
       "  /* fitted */\n",
       "  background-color: var(--sklearn-color-fitted-level-2);\n",
       "}\n",
       "\n",
       "/* Specification for estimator info (e.g. \"i\" and \"?\") */\n",
       "\n",
       "/* Common style for \"i\" and \"?\" */\n",
       "\n",
       ".sk-estimator-doc-link,\n",
       "a:link.sk-estimator-doc-link,\n",
       "a:visited.sk-estimator-doc-link {\n",
       "  float: right;\n",
       "  font-size: smaller;\n",
       "  line-height: 1em;\n",
       "  font-family: monospace;\n",
       "  background-color: var(--sklearn-color-background);\n",
       "  border-radius: 1em;\n",
       "  height: 1em;\n",
       "  width: 1em;\n",
       "  text-decoration: none !important;\n",
       "  margin-left: 1ex;\n",
       "  /* unfitted */\n",
       "  border: var(--sklearn-color-unfitted-level-1) 1pt solid;\n",
       "  color: var(--sklearn-color-unfitted-level-1);\n",
       "}\n",
       "\n",
       ".sk-estimator-doc-link.fitted,\n",
       "a:link.sk-estimator-doc-link.fitted,\n",
       "a:visited.sk-estimator-doc-link.fitted {\n",
       "  /* fitted */\n",
       "  border: var(--sklearn-color-fitted-level-1) 1pt solid;\n",
       "  color: var(--sklearn-color-fitted-level-1);\n",
       "}\n",
       "\n",
       "/* On hover */\n",
       "div.sk-estimator:hover .sk-estimator-doc-link:hover,\n",
       ".sk-estimator-doc-link:hover,\n",
       "div.sk-label-container:hover .sk-estimator-doc-link:hover,\n",
       ".sk-estimator-doc-link:hover {\n",
       "  /* unfitted */\n",
       "  background-color: var(--sklearn-color-unfitted-level-3);\n",
       "  color: var(--sklearn-color-background);\n",
       "  text-decoration: none;\n",
       "}\n",
       "\n",
       "div.sk-estimator.fitted:hover .sk-estimator-doc-link.fitted:hover,\n",
       ".sk-estimator-doc-link.fitted:hover,\n",
       "div.sk-label-container:hover .sk-estimator-doc-link.fitted:hover,\n",
       ".sk-estimator-doc-link.fitted:hover {\n",
       "  /* fitted */\n",
       "  background-color: var(--sklearn-color-fitted-level-3);\n",
       "  color: var(--sklearn-color-background);\n",
       "  text-decoration: none;\n",
       "}\n",
       "\n",
       "/* Span, style for the box shown on hovering the info icon */\n",
       ".sk-estimator-doc-link span {\n",
       "  display: none;\n",
       "  z-index: 9999;\n",
       "  position: relative;\n",
       "  font-weight: normal;\n",
       "  right: .2ex;\n",
       "  padding: .5ex;\n",
       "  margin: .5ex;\n",
       "  width: min-content;\n",
       "  min-width: 20ex;\n",
       "  max-width: 50ex;\n",
       "  color: var(--sklearn-color-text);\n",
       "  box-shadow: 2pt 2pt 4pt #999;\n",
       "  /* unfitted */\n",
       "  background: var(--sklearn-color-unfitted-level-0);\n",
       "  border: .5pt solid var(--sklearn-color-unfitted-level-3);\n",
       "}\n",
       "\n",
       ".sk-estimator-doc-link.fitted span {\n",
       "  /* fitted */\n",
       "  background: var(--sklearn-color-fitted-level-0);\n",
       "  border: var(--sklearn-color-fitted-level-3);\n",
       "}\n",
       "\n",
       ".sk-estimator-doc-link:hover span {\n",
       "  display: block;\n",
       "}\n",
       "\n",
       "/* \"?\"-specific style due to the `<a>` HTML tag */\n",
       "\n",
       "#sk-container-id-2 a.estimator_doc_link {\n",
       "  float: right;\n",
       "  font-size: 1rem;\n",
       "  line-height: 1em;\n",
       "  font-family: monospace;\n",
       "  background-color: var(--sklearn-color-background);\n",
       "  border-radius: 1rem;\n",
       "  height: 1rem;\n",
       "  width: 1rem;\n",
       "  text-decoration: none;\n",
       "  /* unfitted */\n",
       "  color: var(--sklearn-color-unfitted-level-1);\n",
       "  border: var(--sklearn-color-unfitted-level-1) 1pt solid;\n",
       "}\n",
       "\n",
       "#sk-container-id-2 a.estimator_doc_link.fitted {\n",
       "  /* fitted */\n",
       "  border: var(--sklearn-color-fitted-level-1) 1pt solid;\n",
       "  color: var(--sklearn-color-fitted-level-1);\n",
       "}\n",
       "\n",
       "/* On hover */\n",
       "#sk-container-id-2 a.estimator_doc_link:hover {\n",
       "  /* unfitted */\n",
       "  background-color: var(--sklearn-color-unfitted-level-3);\n",
       "  color: var(--sklearn-color-background);\n",
       "  text-decoration: none;\n",
       "}\n",
       "\n",
       "#sk-container-id-2 a.estimator_doc_link.fitted:hover {\n",
       "  /* fitted */\n",
       "  background-color: var(--sklearn-color-fitted-level-3);\n",
       "}\n",
       "</style><div id=\"sk-container-id-2\" class=\"sk-top-container\"><div class=\"sk-text-repr-fallback\"><pre>LatentDirichletAllocation(n_components=2, random_state=42)</pre><b>In a Jupyter environment, please rerun this cell to show the HTML representation or trust the notebook. <br />On GitHub, the HTML representation is unable to render, please try loading this page with nbviewer.org.</b></div><div class=\"sk-container\" hidden><div class=\"sk-item\"><div class=\"sk-estimator fitted sk-toggleable\"><input class=\"sk-toggleable__control sk-hidden--visually\" id=\"sk-estimator-id-2\" type=\"checkbox\" checked><label for=\"sk-estimator-id-2\" class=\"sk-toggleable__label fitted sk-toggleable__label-arrow fitted\">&nbsp;&nbsp;LatentDirichletAllocation<a class=\"sk-estimator-doc-link fitted\" rel=\"noreferrer\" target=\"_blank\" href=\"https://scikit-learn.org/1.4/modules/generated/sklearn.decomposition.LatentDirichletAllocation.html\">?<span>Documentation for LatentDirichletAllocation</span></a><span class=\"sk-estimator-doc-link fitted\">i<span>Fitted</span></span></label><div class=\"sk-toggleable__content fitted\"><pre>LatentDirichletAllocation(n_components=2, random_state=42)</pre></div> </div></div></div></div>"
      ],
      "text/plain": [
       "LatentDirichletAllocation(n_components=2, random_state=42)"
      ]
     },
     "execution_count": 44,
     "metadata": {},
     "output_type": "execute_result"
    }
   ],
   "source": [
    "# step 2: fit the LDA model\n",
    "n_topics = 2  # number of topics \n",
    "lda = LatentDirichletAllocation(n_components=n_topics, random_state=42)\n",
    "lda.fit(X)"
   ]
  },
  {
   "cell_type": "markdown",
   "id": "1b244277-80d4-4fc1-a437-2bb372dda99e",
   "metadata": {},
   "source": [
    "### 3. Display topics "
   ]
  },
  {
   "cell_type": "markdown",
   "id": "71787e3d-c978-4ec1-b9d3-e91a26b00585",
   "metadata": {},
   "source": [
    "After training, display the topics and the words associated with each topic. We print the top n words (e.g. n=8) associated with each topic using `lda.components_`. This gives us the most important terms for each topic."
   ]
  },
  {
   "cell_type": "code",
   "execution_count": 46,
   "id": "1d5fae05-b7ed-4cba-ae0d-8b142f48a08b",
   "metadata": {},
   "outputs": [
    {
     "name": "stdout",
     "output_type": "stream",
     "text": [
      "Top 8 words per topic:\n",
      "Topic #1. coronavirus covid australia new trump australian 19 says\n",
      "Topic #2. police man government court death murder nt nsw\n"
     ]
    }
   ],
   "source": [
    "# Step 3: display the topics\n",
    "n_top_words = 8  # Number of top words to display per topic\n",
    "print(f\"Top {n_top_words} words per topic:\")\n",
    "feature_names = array(vectorizer.get_feature_names_out())\n",
    "\n",
    "for topic_idx, topic in enumerate(lda.components_):\n",
    "    print(\n",
    "        f\"Topic #{topic_idx+1}.\",\n",
    "        \" \".join([feature_names[i] for i in topic.argsort()[:-n_top_words - 1:-1]])\n",
    "    )"
   ]
  },
  {
   "cell_type": "markdown",
   "id": "cc73bddd-bcef-444c-a028-db0b3b597bdf",
   "metadata": {},
   "source": [
    "### 4. Topic distribution for document "
   ]
  },
  {
   "cell_type": "markdown",
   "id": "ebb9996d-2792-44eb-aed5-6a7af5f4a560",
   "metadata": {
    "editable": true,
    "slideshow": {
     "slide_type": ""
    },
    "tags": []
   },
   "source": [
    "Then, we can check how the topics are distributed across specific documents with `lda.transform()`. This shows the proportion of each topic for a given document."
   ]
  },
  {
   "cell_type": "code",
   "execution_count": 48,
   "id": "4b324ccf-9f0c-46ca-be7e-72febfb882de",
   "metadata": {},
   "outputs": [],
   "source": [
    "doc_topic_dist = lda.transform(X)"
   ]
  },
  {
   "cell_type": "markdown",
   "id": "912d113c-270f-47b8-b78f-b46aceccd2c4",
   "metadata": {},
   "source": [
    "We create a DataFrame that combines the original documents with their topic distribution. The idea is to display the document text alongside the distribution of topics across those documents, i.e., how much each document is associated with each topic."
   ]
  },
  {
   "cell_type": "code",
   "execution_count": 58,
   "id": "a13e4a7b-4ccb-4d67-98d5-f01828a9f32b",
   "metadata": {},
   "outputs": [
    {
     "name": "stdout",
     "output_type": "stream",
     "text": [
      "                                                 Document  Topic #1  Topic #2\n",
      "1       10 us citizens 2 locals killed in costa rica p...  0.468032  0.531968\n",
      "2       african gang crime out of control in melbourne...  0.885353  0.114647\n",
      "3       a new generation of priests want to modernise ...  0.604663  0.395337\n",
      "4            anti government protests spread through iran  0.678072  0.321928\n",
      "...                                                   ...       ...       ...\n",
      "132325   victoria records 5919 new cases and seven deaths   0.93383   0.06617\n",
      "132326    wa delays adopting new close contact definition  0.742842  0.257158\n",
      "132327  western ringtail possums found badly dehydrate...  0.379159  0.620841\n",
      "132328  what makes you a close covid contact here are ...  0.922198  0.077802\n",
      "\n",
      "[132328 rows x 3 columns]\n"
     ]
    }
   ],
   "source": [
    "topic_df = DataFrame(\n",
    "    c_[documents, doc_topic_dist], \n",
    "    columns=[\"Document\"] + [f\"Topic #{i+1}\" for i in range(n_topics)]\n",
    ")\n",
    "topic_df.index = range(1, len(topic_df) + 1)\n",
    "print(topic_df)"
   ]
  },
  {
   "cell_type": "markdown",
   "id": "318e7cc7-360a-4ff8-87c9-2eab02815524",
   "metadata": {},
   "source": [
    "## Observations and conclusion:"
   ]
  },
  {
   "cell_type": "markdown",
   "id": "d5849086-b5f5-4bb6-b66c-89378f472184",
   "metadata": {},
   "source": [
    "- __Topic #1 (dominant)__. Many documents show a clear dominance of Topic #1, with high values like 0.885353 (document 2), 0.93383 (document 132325), and 0.922198 (document 132328). This suggests that Topic #1 is frequently the dominant topic in the dataset.\n",
    "- __Topic #2__. Documents with a higher probability for Topic #2 include headlines such as \"_western ringtail possums found badly dehydrate..._\" (0.620841 for Topic #2), which indicates a focus on a different theme, possibly environmental or wildlife-related issues.\n",
    "\n",
    "The data set reguard a variety of news topics, with a strong focus on public health and governance, but also other societal issues like crime, environmental concerns."
   ]
  }
 ],
 "metadata": {
  "kernelspec": {
   "display_name": "Python 3 (ipykernel)",
   "language": "python",
   "name": "python3"
  },
  "language_info": {
   "codemirror_mode": {
    "name": "ipython",
    "version": 3
   },
   "file_extension": ".py",
   "mimetype": "text/x-python",
   "name": "python",
   "nbconvert_exporter": "python",
   "pygments_lexer": "ipython3",
   "version": "3.12.3"
  }
 },
 "nbformat": 4,
 "nbformat_minor": 5
}
